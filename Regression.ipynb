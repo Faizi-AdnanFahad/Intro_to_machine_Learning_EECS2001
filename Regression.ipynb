{
  "nbformat": 4,
  "nbformat_minor": 0,
  "metadata": {
    "colab": {
      "name": "Regression.ipynb",
      "provenance": [],
      "collapsed_sections": [],
      "include_colab_link": true
    },
    "kernelspec": {
      "display_name": "Python 3",
      "language": "python",
      "name": "python3"
    },
    "language_info": {
      "codemirror_mode": {
        "name": "ipython",
        "version": 3
      },
      "file_extension": ".py",
      "mimetype": "text/x-python",
      "name": "python",
      "nbconvert_exporter": "python",
      "pygments_lexer": "ipython3",
      "version": "3.5.2"
    }
  },
  "cells": [
    {
      "cell_type": "markdown",
      "metadata": {
        "id": "view-in-github",
        "colab_type": "text"
      },
      "source": [
        "<a href=\"https://colab.research.google.com/github/Faizi-AdnanFahad/Intro_to_machine_Learning_EECS2001/blob/main/Regression.ipynb\" target=\"_parent\"><img src=\"https://colab.research.google.com/assets/colab-badge.svg\" alt=\"Open In Colab\"/></a>"
      ]
    },
    {
      "cell_type": "markdown",
      "metadata": {
        "id": "UqT873FcvjxW"
      },
      "source": [
        "Trying to Understand Machine Learning for Regression\n"
      ]
    },
    {
      "cell_type": "code",
      "metadata": {
        "id": "_yS243aihQrF"
      },
      "source": [
        "# import all that is needed \n",
        "import keras\n",
        "from random import random \n",
        "import matplotlib.pyplot as plt\n",
        "import numpy as np\n",
        "from keras import models, layers\n",
        "import math\n",
        "from tensorflow.keras.utils import to_categorical"
      ],
      "execution_count": null,
      "outputs": []
    },
    {
      "cell_type": "code",
      "metadata": {
        "colab": {
          "base_uri": "https://localhost:8080/"
        },
        "id": "1VxozTjY5NKa",
        "outputId": "1ed3dd8e-cb91-4c2f-fd7c-8f8eb6ba8d29"
      },
      "source": [
        "##########################################################\n",
        "# setAP(APValues)                                        #\n",
        "#   AP are \"Attempt Parameters\" (a global variable)      #\n",
        "#   APValues specifies a list of parameters to set       #\n",
        "#    eg AP = setAP([\"function\",\"exp\"],[\"degree\",3])      #\n",
        "#         sets function = \"exp\" and degree = 3           #\n",
        "#         remaining parameters are set to their defaults #\n",
        "##########################################################\n",
        "AP = {}    # Make \"Attempt Parameters\" a global variable \n",
        "\n",
        "def setAP(*APV):\n",
        "  global AP \n",
        "  #     parameter name : default value\n",
        "  AP = {\"nDimensions\":2,      # x = [x1,..,xn]\n",
        "        \"maxX\":100,           # xi in [0..maxX]   \n",
        "        \"categorize\":[],      # [] means the output is one real number\n",
        "                              # [10,20,30] means 4 categories y=\n",
        "                              # 0 if {yy<10}, 1 if {10<=yy<20}, ..., 3 if {30<=yy} \n",
        "        \"nItemsTrain\":4,  # num of training data\n",
        "        \"nItemsTest\": 10000,  # num of testing data\n",
        "        \"function\":\"poly\",    # vs \"exp\"\n",
        "        \"degree\":2,           # x0^degree vs degree^x0\n",
        "        \"graph_r\":0,          # graph wrt xr                              ???? what is this?\n",
        "        \"graph_x\":[0,1],      # graph with other values set as x\n",
        "        \"logscale\":False,     # if True, graph log(y)\n",
        "        \"noise\":0,            # add noise to x and y\n",
        "        \"nLayers\":2,          # num of layers in the neural network\n",
        "        \"nHidden\":512,        # num of nodes in each hidden layer\n",
        "        \"activation\":\"relu\",  # how each neuron is activated\n",
        "        \"epochs\":5,           # number of passes through data\n",
        "        \"batch\":128,          # num items per hill climbing step\n",
        "        # not parmeters, as much as global variables \n",
        "        \"trainX\":0, \"trainY\":0, \"testX\":0, \"testY\":0, \"network\":0}\n",
        "\n",
        "  for APv in APV:\n",
        "    AP[APv[0]] = APv[1]\n",
        "\n",
        "setAP()\n",
        "print(AP)\n",
        "setAP([\"function\",\"exp\"],[\"degree\",3])\n",
        "print(AP)\n",
        "print(AP[\"nDimensions\"])\n",
        "print(AP[\"function\"])\n",
        "if AP[\"function\"]==\"exp\":\n",
        "  print(\"exellent\")"
      ],
      "execution_count": null,
      "outputs": [
        {
          "output_type": "stream",
          "name": "stdout",
          "text": [
            "{'nDimensions': 2, 'maxX': 100, 'categorize': [], 'nItemsTrain': 4, 'nItemsTest': 10000, 'function': 'poly', 'degree': 2, 'graph_r': 0, 'graph_x': [0, 1], 'logscale': False, 'noise': 0, 'nLayers': 2, 'nHidden': 512, 'activation': 'relu', 'epochs': 5, 'batch': 128, 'trainX': 0, 'trainY': 0, 'testX': 0, 'testY': 0, 'network': 0}\n",
            "{'nDimensions': 2, 'maxX': 100, 'categorize': [], 'nItemsTrain': 4, 'nItemsTest': 10000, 'function': 'exp', 'degree': 3, 'graph_r': 0, 'graph_x': [0, 1], 'logscale': False, 'noise': 0, 'nLayers': 2, 'nHidden': 512, 'activation': 'relu', 'epochs': 5, 'batch': 128, 'trainX': 0, 'trainY': 0, 'testX': 0, 'testY': 0, 'network': 0}\n",
            "2\n",
            "exp\n",
            "exellent\n"
          ]
        }
      ]
    },
    {
      "cell_type": "code",
      "metadata": {
        "colab": {
          "base_uri": "https://localhost:8080/"
        },
        "id": "QP3Qa8huHZSD",
        "outputId": "ed3bd5a3-3210-4346-eea3-c0e556608787"
      },
      "source": [
        "##########################################################\n",
        "# ff(x) is the precategory function y=f(x) to be learned #\n",
        "#   AP[\"function\"] specifies which function to use       #\n",
        "#   AP[\"nDimensions\"] = 2 ie x = [x1,..,xn]              #\n",
        "#   AP[\"degree\"] = 2 ie degree of poly or base of exp    #\n",
        "##########################################################\n",
        " \n",
        "def ff(x):\n",
        "  if AP[\"function\"]==\"poly\":\n",
        "    y = 1\n",
        "    for i in range(AP[\"nDimensions\"]):\n",
        "      y *= x[i]**AP[\"degree\"] \n",
        "    return y\n",
        "\n",
        "  if AP[\"function\"]==\"exp\":\n",
        "    y = 1\n",
        "    for i in range(AP[\"nDimensions\"]):\n",
        "      y *= AP[\"degree\"]**x[i] \n",
        "    return y\n",
        "\n",
        "setAP()\n",
        "print(ff([2,3]))\n",
        "setAP([\"function\",\"exp\"])\n",
        "print(ff([2,3]))"
      ],
      "execution_count": null,
      "outputs": [
        {
          "output_type": "stream",
          "name": "stdout",
          "text": [
            "36\n",
            "32\n"
          ]
        }
      ]
    },
    {
      "cell_type": "code",
      "metadata": {
        "colab": {
          "base_uri": "https://localhost:8080/"
        },
        "id": "idHEzzWzGL_X",
        "outputId": "7b74edfe-b5b8-4462-c46e-c5e5339169cf"
      },
      "source": [
        "###########################################################\n",
        "# Categorize:                                             #\n",
        "#   [] means the output is one real number                #\n",
        "#     f(x) is the function y=f(x) that is to be learned   #\n",
        "#   [10,20,30] means 4 categories y=                      #\n",
        "#     0 if {yy<10}, 1 if {10<=yy<20}, ..., 3 if {30<=yy}  #\n",
        "###########################################################\n",
        "\n",
        "##########################################################\n",
        "# y = categoriesY(yy)                                    #\n",
        "##########################################################\n",
        "\n",
        "def categoriesY(yy):\n",
        "  y = 0\n",
        "  for c in AP[\"categorize\"]:\n",
        "    if yy>=c: y += 1\n",
        "  return y\n",
        "\n",
        "setAP([\"categorize\",[10,20,30]])\n",
        "print(\"Catagories:  9->\",categoriesY( 9),\n",
        "                \", 10->\",categoriesY(10),\n",
        "                \", 19->\",categoriesY(19),\n",
        "                \", 20->\",categoriesY(20),\n",
        "                \", 29->\",categoriesY(29),\n",
        "                \", 30->\",categoriesY(30),\n",
        "                \", 31->\",categoriesY(31))\n",
        "\n",
        "##########################################################\n",
        "# f(x) is the postcategory function y=f(x) to be learned #\n",
        "##########################################################\n",
        "\n",
        "def f(x):\n",
        "  if AP[\"categorize\"]==[]:\n",
        "    return ff(x)\n",
        "  else:\n",
        "    return categoriesY(ff(x))\n",
        "\n",
        "setAP()\n",
        "print(\"f = \",f([4,4]))\n",
        "setAP([\"categorize\",[10,20,30]])\n",
        "print(\"f cat = \",f([4,4]))\n"
      ],
      "execution_count": null,
      "outputs": [
        {
          "output_type": "stream",
          "name": "stdout",
          "text": [
            "Catagories:  9-> 0 , 10-> 1 , 19-> 1 , 20-> 2 , 29-> 2 , 30-> 3 , 31-> 3\n",
            "f =  256\n",
            "f cat =  3\n"
          ]
        }
      ]
    },
    {
      "cell_type": "code",
      "metadata": {
        "colab": {
          "base_uri": "https://localhost:8080/"
        },
        "id": "8T2Om1UE2l20",
        "outputId": "bda602b9-9b80-45fa-bd6e-d77333a0a5b4"
      },
      "source": [
        "###########################################################\n",
        "# x = randx() is a random x = [x1,..,xn]                  # \n",
        "###########################################################\n",
        "def randx():\n",
        "  x = np.zeros(AP[\"nDimensions\"]) # ? it definies 2x2 \n",
        "  for j in range(AP[\"nDimensions\"]):\n",
        "    x[j] = random()*AP[\"maxX\"] # then how can we set a row \n",
        "  return x\n",
        "\n",
        "print(\"randx\", randx())\n",
        " \n",
        "###########################################################\n",
        "# randCategories(r):                                      #\n",
        "#   Generates a random [10,20,30] giving r=4 catagories   #  \n",
        "#    partitioned using r-1 values of ff(x) for random x   #\n",
        "###########################################################\n",
        "\n",
        "def randCategories(r):\n",
        "  cat = np.zeros(r-1)\n",
        "  for i in range(r-1):\n",
        "    cat[i] = ff(randx())\n",
        "  cat.sort()\n",
        "  return cat\n",
        "\n",
        "print(\"randCategories \", randCategories(4))"
      ],
      "execution_count": null,
      "outputs": [
        {
          "output_type": "stream",
          "name": "stdout",
          "text": [
            "randx [89.65100882 62.56511327]\n",
            "randCategories  [5279488.10112509 7610755.22611404 9640567.14037036]\n"
          ]
        }
      ]
    },
    {
      "cell_type": "code",
      "metadata": {
        "colab": {
          "base_uri": "https://localhost:8080/",
          "height": 452
        },
        "id": "dQnjXXVrTDPB",
        "outputId": "d6f7278e-968d-4dff-b537-1559c7d30e56"
      },
      "source": [
        "##############################################################\n",
        "# Graphs given and learned function                          #\n",
        "#   AP[\"graph_r\"] = r in range(nDimensions)                  #\n",
        "#    is such that x_r is horixontal axis of graph            #\n",
        "#    with 100 values in range(maxX)                          #\n",
        "#   AP[\"graph_x\"] = x = [x0,x1,...,xn]                       #\n",
        "#    sets the values of the other variables                  #\n",
        "#   AP[\"network\"] if one has been learned yet                #\n",
        "##############################################################\n",
        "nPoints = 100 # number points in graph\n",
        "\n",
        "def graph():\n",
        "  r = AP[\"graph_r\"]\n",
        "  x = AP[\"graph_x\"]\n",
        "  network = AP[\"network\"]\n",
        "  X  = np.zeros((nPoints,AP[\"nDimensions\"]))  # A list of all x=[x0,x1,...,xn] that we want to evaluate\n",
        "  Xr = np.zeros(nPoints) # A list of all values of xr that we are plotting. This horizontal axes. \n",
        "  Yf = np.zeros(nPoints) # A list of the correct y = f(x) values. This verticle axes.\n",
        "  YL = np.zeros(nPoints) # A list of Learned y values. This second verticle axes.\n",
        "  for i in range(nPoints):\n",
        "    X[i] = x\n",
        "    Xr[i] = (i/nPoints) * AP[\"maxX\"]        \n",
        "    X[i][r] = Xr[i]\n",
        "    Yf[i] = f(X[i])\n",
        "  if network != 0: YL = network.predict(X)\n",
        "  else:            YL = []\n",
        "  if AP[\"logscale\"]:\n",
        "    takeLog(Yf)\n",
        "    takeLog(YL)\n",
        "  fig = plt.figure(figsize=(6,6),)\n",
        "  makeTitles(plt,r,x,network)\n",
        "  plt.plot(Xr,Yf);\n",
        "  if network != 0: \n",
        "    ax2 = fig.add_subplot();\n",
        "    ax2.plot(Xr,YL)\n",
        "  ax0 = fig.add_subplot()  # Plot point [0,0] graph\n",
        "  ax0.plot([0],[0]);\n",
        "\n",
        "def makeTitles(plt,r,x,network):\n",
        "  title = \"y=f(x\" + str(r) + \") \" + AP[\"function\"]\n",
        "  if AP[\"logscale\"]: title += \" logscale\"\n",
        "  if AP[\"categorize\"]!=[]:\n",
        "    title += \" categories\"\n",
        "  if network != 0: title += \" and y=Learned(x)\"\n",
        "  plt.title(title, fontsize=20)\n",
        "  plt.xlabel(\"x\"+str(r)+\" with \"+ str(x), fontsize=15)\n",
        "  plt.ylabel(\"y\", fontsize=15)\n",
        "\n",
        "def takeLog(Y):\n",
        "  for i in range(len(Y)):\n",
        "    Y[i] = math.log10( Y[i] )\n",
        "\n",
        "setAP()\n",
        "graph() \n",
        "# setAP([\"graph_x\",randx()])\n",
        "# graph() \n",
        "# setAP([\"categorize\",[25**2,50**2,75**2]])\n",
        "# graph() \n",
        "# setAP([\"function\",\"exp\"])\n",
        "# graph() \n",
        "# setAP([\"function\",\"exp\"],[\"logscale\",True])\n",
        "# graph()"
      ],
      "execution_count": null,
      "outputs": [
        {
          "output_type": "stream",
          "name": "stderr",
          "text": [
            "/usr/local/lib/python3.7/dist-packages/ipykernel_launcher.py:36: MatplotlibDeprecationWarning: Adding an axes using the same arguments as a previous axes currently reuses the earlier instance.  In a future version, a new instance will always be created and returned.  Meanwhile, this warning can be suppressed, and the future behavior ensured, by passing a unique label to each axes instance.\n"
          ]
        },
        {
          "output_type": "display_data",
          "data": {
            "image/png": "[encoded data removed]",
            "text/plain": [
              "<Figure size 432x432 with 1 Axes>"
            ]
          },
          "metadata": {
            "needs_background": "light"
          }
        }
      ]
    },
    {
      "cell_type": "code",
      "metadata": {
        "colab": {
          "base_uri": "https://localhost:8080/"
        },
        "id": "dAITaBh-okVl",
        "outputId": "a12dcab7-a1c2-4c1c-ab4d-b3d95cc60336"
      },
      "source": [
        "###########################################################\n",
        "# buildData:                                              #\n",
        "#   Stored in AP[\"trainX\"],AP[\"trainY\"]                   #\n",
        "#   Stored in AP[\"testX\"], AP[\"testY\"]                    #\n",
        "# x is random with shape (nItemsTrain,nDimensions)        #\n",
        "# y is computed using y=f(x)                              #\n",
        "# Number of ___ specified by:                             #\n",
        "#   AP[\"nItemsTrain\"] = 60000                             #\n",
        "#   AP[\"nItemsTest\"]  = 10000                             #\n",
        "#   AP[\"nDimensions\"] = 2   ie x = [x1,..,xn]             #\n",
        "#   AP[\"maxX\"]        = 100 ie xi = random in [0..maxX]   #\n",
        "###########################################################\n",
        "\n",
        "def buildHalf(nItems):\n",
        "  X = np.zeros((nItems,AP[\"nDimensions\"]))\n",
        "  Y = np.zeros(nItems)\n",
        "  for i in range(nItems):\n",
        "    for j in range(AP[\"nDimensions\"]):\n",
        "      X[i][j] = random()*AP[\"maxX\"]\n",
        "    Y[i] = f(X[i])\n",
        "  return X,Y\n",
        "\n",
        "X,Y = buildHalf(4)\n",
        "print(X)\n",
        "print(Y)\n",
        "\n",
        "def buildData():\n",
        "  AP[\"trainX\"],AP[\"trainY\"] = buildHalf(AP[\"nItemsTrain\"])\n",
        "  AP[\"testX\"], AP[\"testY\"]   = buildHalf(AP[\"nItemsTest\"])\n",
        " \n",
        "setAP()\n",
        "buildData()\n",
        "print(AP[\"trainX\"].shape,AP[\"trainY\"].shape)\n",
        "print(AP[\"testX\"].shape, AP[\"testY\"].shape)"
      ],
      "execution_count": null,
      "outputs": [
        {
          "output_type": "stream",
          "name": "stdout",
          "text": [
            "[[ 3.98744812 93.92341463]\n",
            " [21.8271179  29.80482291]\n",
            " [ 0.94733936 69.36209678]\n",
            " [44.76770126 58.78643133]]\n",
            "[1.40261293e+05 4.23219705e+05 4.31773105e+03 6.92602067e+06]\n",
            "(4, 2) (4,)\n",
            "(10000, 2) (10000,)\n"
          ]
        }
      ]
    },
    {
      "cell_type": "code",
      "metadata": {
        "colab": {
          "base_uri": "https://localhost:8080/"
        },
        "id": "-qaQdTTZSPRS",
        "outputId": "b749d6d3-4d78-4fcf-f63b-f40a8ff9a2ee"
      },
      "source": [
        "###########################################################\n",
        "# AddNoise(trainX,trainY) adds noise to (trainX,trainY)   #\n",
        "#    Added noise = random in [-noise/2,+noise/2]          #\n",
        "#    Note the value of Y is computed                      #\n",
        "#     from the noiseless version of X                     # \n",
        "#    (Let's not add noise to our test data)               #\n",
        "###########################################################\n",
        "\n",
        "def AddNoiseX(X,noise):\n",
        "  for i in range(len(X)):\n",
        "    for j in range(len(X[i])):\n",
        "      X[i][j] += (random()-0.5) * noise\n",
        "\n",
        "def AddNoiseY(Y,noise):\n",
        "  print(\"In Y = \", Y)\n",
        "  for i in range(len(Y)):\n",
        "     Y[i] += (random()-0.5) * noise\n",
        "\n",
        "def AddNoise():\n",
        "  print(AP[\"trainX\"])\n",
        "  print(\"Going in \", AP[\"trainY\"])\n",
        "  AddNoiseX(AP[\"trainX\"],AP[\"noise\"])\n",
        "  print(\"Going in \", AP[\"trainY\"])\n",
        "  AddNoiseY(AP[\"trainY\"],AP[\"noise\"])\n",
        "\n",
        "X = np.array([[30.0,40.0],[50.0,60.0]])\n",
        "Y = np.array([30.0,40.0])\n",
        "AddNoiseX(X,1)\n",
        "AddNoiseY(Y,1)\n",
        "print(X)\n",
        "print(Y)"
      ],
      "execution_count": null,
      "outputs": [
        {
          "output_type": "stream",
          "name": "stdout",
          "text": [
            "In Y =  [30. 40.]\n",
            "[[29.55395121 40.44231833]\n",
            " [49.90291004 60.06235421]]\n",
            "[30.07878121 40.05231605]\n"
          ]
        }
      ]
    },
    {
      "cell_type": "code",
      "metadata": {
        "id": "q8jCkAffhQsX"
      },
      "source": [
        "#################################################################\n",
        "# Learn(trainX,trainY) fits the neural network                  #\n",
        "#   Categorical or Regression ie one output                     #\n",
        "#   Number of ___ specified by:                                 #\n",
        "#     AP[\"nLayers\"] = 2 is num of layers in the neural network  #\n",
        "#     AP[\"nHidden\"] = 512 is num of passes through data         # \n",
        "#     AP[\"activation\"] = 'relu' is how each neuron is activated #\n",
        "#     AP[\"epochs\"]  = 5   is num of passes through data         #\n",
        "#     AP[\"batch\"]   = 128 is num items per hill climbing step   #\n",
        "#################################################################\n",
        "\n",
        "def learn():\n",
        "  if AP[\"categorize\"]!=[]: \n",
        "    # learned output is a vector of probabilities\n",
        "    trainYCat = to_categorical(AP[\"trainY\"])  # turn into vector of probabilities.\n",
        "    testYCat  = to_categorical(AP[\"testY\"])\n",
        "  else: \n",
        "   # learned output is simpy y\n",
        "    trainYCat = AP[\"trainY\"]                \n",
        "    testYCat  = AP[\"testY\"]\n",
        "  \n",
        "  network = models.Sequential()\n",
        "  network.add(layers.Dense(AP[\"nHidden\"], \n",
        "                           activation=AP[\"activation\"], \n",
        "                           input_shape=(AP[\"nDimensions\"],)))\n",
        "  for i in range(AP[\"nLayers\"]-2):  # For default nLayers, nothing happens here\n",
        "    network.add(layers.Dense(AP[\"nHidden\"], activation=AP[\"activation\"]))\n",
        "\n",
        "  if AP[\"categorize\"]!=[]:\n",
        "    # softmax and crossentropy are good for \"probabilities\"\n",
        "    network.add(layers.Dense(len(AP[\"categorize\"])+1, activation='softmax'))\n",
        "    network.compile(optimizer='rmsprop', \n",
        "                    loss='categorical_crossentropy',\n",
        "                    metrics=['accuracy'])\n",
        "  else: \n",
        "    # we just left top layer activation blank, i.e. simply z = weighted sum \n",
        "    # expect \"accuracy\" to be bad because none of the real answers will be perfect.\n",
        "    # I got optimizer='adam' from googling regression. This was my bug.\n",
        "    network.add(layers.Dense(1))\n",
        "    network.compile(optimizer='rmsprop', \n",
        "                    loss='categorical_crossentropy',\n",
        "                    metrics=['accuracy'])\n",
        "    \n",
        "  network.fit(AP[\"trainX\"],trainYCat, \n",
        "              epochs=AP[\"epochs\"], batch_size=AP[\"batch\"], \n",
        "              verbose=0) # suppress some of the output\n",
        "  test_loss, test_acc = network.evaluate(AP[\"testX\"],testYCat)\n",
        "  AP[\"network\"] = network\n",
        "  return test_loss "
      ],
      "execution_count": null,
      "outputs": []
    },
    {
      "cell_type": "code",
      "metadata": {
        "colab": {
          "base_uri": "https://localhost:8080/",
          "height": 487
        },
        "id": "MyYkd9sKgdXW",
        "outputId": "24da153a-cb37-4f83-ac47-cfa6838e7a78"
      },
      "source": [
        "#########################################################\n",
        "# all(APValues) does all for specified value of AP      #\n",
        "#   APV specifies a list of Attempt Parameters to set   #\n",
        "#    eg all([\"function\",\"exp\"],[\"degree\",3])            #\n",
        "#   returns the test_loss                               #\n",
        "#########################################################\n",
        "\n",
        "def all(*APV):\n",
        "  setAP(*APV)\n",
        "  buildData()\n",
        "  AddNoise()\n",
        "  test_loss = learn(trainX,trainY,testX,testY)\n",
        "  graph()\n",
        "  return test_loss \n",
        "\n",
        "test_loss = all([\"categorize\",[25**2,50**2,75**2]])\n",
        "\n",
        "\n",
        "setAP()\n",
        "graph() \n",
        "setAP([\"graph_x\",randx()])\n",
        "graph() \n",
        "setAP([\"categorize\",[25**2,50**2,75**2]])\n",
        "graph() \n",
        "setAP([\"function\",\"exp\"])\n",
        "graph() \n",
        "setAP([\"function\",\"exp\"],[\"logscale\",True])\n",
        "graph()"
      ],
      "execution_count": null,
      "outputs": [
        {
          "output_type": "stream",
          "name": "stdout",
          "text": [
            "[[53.25291351 35.23817563]\n",
            " [20.85109761 16.27392381]\n",
            " [98.46041338 19.35355728]\n",
            " [83.33807783 92.17144095]]\n",
            "Going in  [3. 3. 3. 3.]\n",
            "Going in  [3. 3. 3. 3.]\n",
            "In Y =  [3. 3. 3. 3.]\n"
          ]
        },
        {
          "output_type": "error",
          "ename": "NameError",
          "evalue": "ignored",
          "traceback": [
            "\u001b[0;31m---------------------------------------------------------------------------\u001b[0m",
            "\u001b[0;31mNameError\u001b[0m                                 Traceback (most recent call last)",
            "\u001b[0;32m<ipython-input-177-a728f6acbe59>\u001b[0m in \u001b[0;36m<module>\u001b[0;34m()\u001b[0m\n\u001b[1;32m     14\u001b[0m   \u001b[0;32mreturn\u001b[0m \u001b[0mtest_loss\u001b[0m\u001b[0;34m\u001b[0m\u001b[0;34m\u001b[0m\u001b[0m\n\u001b[1;32m     15\u001b[0m \u001b[0;34m\u001b[0m\u001b[0m\n\u001b[0;32m---> 16\u001b[0;31m \u001b[0mtest_loss\u001b[0m \u001b[0;34m=\u001b[0m \u001b[0mall\u001b[0m\u001b[0;34m(\u001b[0m\u001b[0;34m[\u001b[0m\u001b[0;34m\"categorize\"\u001b[0m\u001b[0;34m,\u001b[0m\u001b[0;34m[\u001b[0m\u001b[0;36m25\u001b[0m\u001b[0;34m**\u001b[0m\u001b[0;36m2\u001b[0m\u001b[0;34m,\u001b[0m\u001b[0;36m50\u001b[0m\u001b[0;34m**\u001b[0m\u001b[0;36m2\u001b[0m\u001b[0;34m,\u001b[0m\u001b[0;36m75\u001b[0m\u001b[0;34m**\u001b[0m\u001b[0;36m2\u001b[0m\u001b[0;34m]\u001b[0m\u001b[0;34m]\u001b[0m\u001b[0;34m)\u001b[0m\u001b[0;34m\u001b[0m\u001b[0;34m\u001b[0m\u001b[0m\n\u001b[0m\u001b[1;32m     17\u001b[0m \u001b[0;34m\u001b[0m\u001b[0m\n\u001b[1;32m     18\u001b[0m \u001b[0;34m\u001b[0m\u001b[0m\n",
            "\u001b[0;32m<ipython-input-177-a728f6acbe59>\u001b[0m in \u001b[0;36mall\u001b[0;34m(*APV)\u001b[0m\n\u001b[1;32m     10\u001b[0m   \u001b[0mbuildData\u001b[0m\u001b[0;34m(\u001b[0m\u001b[0;34m)\u001b[0m\u001b[0;34m\u001b[0m\u001b[0;34m\u001b[0m\u001b[0m\n\u001b[1;32m     11\u001b[0m   \u001b[0mAddNoise\u001b[0m\u001b[0;34m(\u001b[0m\u001b[0;34m)\u001b[0m\u001b[0;34m\u001b[0m\u001b[0;34m\u001b[0m\u001b[0m\n\u001b[0;32m---> 12\u001b[0;31m   \u001b[0mtest_loss\u001b[0m \u001b[0;34m=\u001b[0m \u001b[0mlearn\u001b[0m\u001b[0;34m(\u001b[0m\u001b[0mtrainX\u001b[0m\u001b[0;34m,\u001b[0m\u001b[0mtrainY\u001b[0m\u001b[0;34m,\u001b[0m\u001b[0mtestX\u001b[0m\u001b[0;34m,\u001b[0m\u001b[0mtestY\u001b[0m\u001b[0;34m)\u001b[0m\u001b[0;34m\u001b[0m\u001b[0;34m\u001b[0m\u001b[0m\n\u001b[0m\u001b[1;32m     13\u001b[0m   \u001b[0mgraph\u001b[0m\u001b[0;34m(\u001b[0m\u001b[0;34m)\u001b[0m\u001b[0;34m\u001b[0m\u001b[0;34m\u001b[0m\u001b[0m\n\u001b[1;32m     14\u001b[0m   \u001b[0;32mreturn\u001b[0m \u001b[0mtest_loss\u001b[0m\u001b[0;34m\u001b[0m\u001b[0;34m\u001b[0m\u001b[0m\n",
            "\u001b[0;31mNameError\u001b[0m: name 'trainX' is not defined"
          ]
        }
      ]
    },
    {
      "cell_type": "code",
      "metadata": {
        "id": "uHnMg_pkjxaT"
      },
      "source": [
        "#########################################################\n",
        "# Plotting AP vs test_loss                              #\n",
        "#   APParameter: which parameter to vary, eg \"degree\"   #\n",
        "#   APRange: values to try, eg [2,3,5,10]               #\n",
        "#   APV: other parameters to fix to non-default values  #\n",
        "#    ([\"function\",\"exp\"],[\"degree\",3]])                 #\n",
        "#########################################################\n",
        "\n",
        "def plotAP(APParameter,APRange,APV=()):\n",
        "  Test_loss = np.zeros(len(APRange))   # APRange is our horizonal axis and Test_loss our vertical\n",
        "  for i in range(len(APRange)):\n",
        "    APNew = [APParameter,APRange[i]]\n",
        "    #print(\"AP = \", APNew)\n",
        "    print(APNew,*APV)\n",
        "    setAP(APNew,*APV)\n",
        "    print(\"test2: \", AP)\n",
        "    Test_loss[i] = i\n",
        "    #network,test_loss = all(APNew,APV)\n",
        "    #Test_loss[i] = test_loss\n",
        "  print(APRange,Test_loss,)\n",
        "\n",
        "  plt.figure(figsize=(6,6))\n",
        "  plt.plot(APRange,Test_loss);\n",
        "  plt.xlabel('Degree of x0', fontsize=15)\n",
        "  plt.ylabel('Test Loss', fontsize=15)\n",
        "  plt.title('Different Degrees', fontsize=20);\n",
        "\n",
        "plotAP(\"degree\",[2,3,5,10])\n",
        "plotAP(\"degree\",[2,3,5,10],([\"function\",\"exp\"],[\"maxX\",5]))"
      ],
      "execution_count": null,
      "outputs": []
    }
  ]
}