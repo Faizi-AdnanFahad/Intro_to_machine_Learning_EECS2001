{
  "nbformat": 4,
  "nbformat_minor": 0,
  "metadata": {
    "colab": {
      "name": "EECS 2001 Final Work.ipynb",
      "provenance": [],
      "collapsed_sections": [
        "rUA7GaO0nHLu",
        "_OFLtS-m5J9z",
        "fUcWE0ty5Q0U"
      ],
      "toc_visible": true,
      "include_colab_link": true
    },
    "kernelspec": {
      "display_name": "Python 3",
      "language": "python",
      "name": "python3"
    },
    "language_info": {
      "codemirror_mode": {
        "name": "ipython",
        "version": 3
      },
      "file_extension": ".py",
      "mimetype": "text/x-python",
      "name": "python",
      "nbconvert_exporter": "python",
      "pygments_lexer": "ipython3",
      "version": "3.5.2"
    }
  },
  "cells": [
    {
      "cell_type": "markdown",
      "metadata": {
        "id": "view-in-github",
        "colab_type": "text"
      },
      "source": [
        "<a href=\"https://colab.research.google.com/github/Faizi-AdnanFahad/Intro_to_machine_Learning_EECS2001/blob/main/EECS_2001_Final_Work.ipynb\" target=\"_parent\"><img src=\"https://colab.research.google.com/assets/colab-badge.svg\" alt=\"Open In Colab\"/></a>"
      ]
    },
    {
      "cell_type": "markdown",
      "metadata": {
        "id": "UqT873FcvjxW"
      },
      "source": [
        "Trying to Understand Machine Learning for Regression\n"
      ]
    },
    {
      "cell_type": "markdown",
      "metadata": {
        "id": "8qAdbRzmnS4W"
      },
      "source": [
        "# Setup Code"
      ]
    },
    {
      "cell_type": "markdown",
      "metadata": {
        "id": "rUA7GaO0nHLu"
      },
      "source": [
        "## Imports\n",
        "Do all the needed imports"
      ]
    },
    {
      "cell_type": "code",
      "metadata": {
        "id": "_yS243aihQrF"
      },
      "source": [
        "from datetime import datetime\n",
        "import math\n",
        "from random import random\n",
        "\n",
        "import matplotlib.pyplot as plt\n",
        "import numpy as np\n",
        "from keras import layers, models\n",
        "from tensorflow.keras.utils import to_categorical"
      ],
      "execution_count": null,
      "outputs": []
    },
    {
      "cell_type": "markdown",
      "metadata": {
        "id": "_ItpFEfN14v4"
      },
      "source": [
        "## Define Global Variables"
      ]
    },
    {
      "cell_type": "code",
      "metadata": {
        "id": "vyCjrkuf1-1h"
      },
      "source": [
        "AP = {}                      # Make \"Attempt Parameters\" a global variable \n",
        "trainX = np.zeros((60000,2)) # A list of lots of x = [x0,...,x_{n-1}] values chosen randomly\n",
        "trainY = np.zeros(60000)     # The supervisors answers y=f(x)\n",
        "testX  = np.zeros((10000,2)) # Same but for testing\n",
        "testY  = np.zeros(10000)     #\n",
        "network = 0                  # The learned neural network\n",
        "custom_func = None           # Used to define a custom function for mapping an input x to a real value\n",
        "meanX = meanY = 0\n",
        "stdX = stdY = 1"
      ],
      "execution_count": null,
      "outputs": []
    },
    {
      "cell_type": "markdown",
      "metadata": {
        "id": "JYmhrFeVkv7f"
      },
      "source": [
        "## setAP - DEFAULT ATTEMPT PARAMETERS"
      ]
    },
    {
      "cell_type": "code",
      "metadata": {
        "id": "1VxozTjY5NKa"
      },
      "source": [
        "##########################################################\n",
        "\"\"\"    \n",
        "  setAP(APValues)                                        \n",
        "    AP are \"Attempt Parameters\" (a global variable)      \n",
        "    APValues specifies a list of parameters to set       \n",
        "     eg setAP([\"function\",\"exp\"],[\"degree\",3])           \n",
        "          sets function = \"exp\" and degree = 3           \n",
        "          remaining parameters are set to their defaults \n",
        "\"\"\"  \n",
        "##########################################################\n",
        "\n",
        "def setAP(*APV):\n",
        "  global AP \n",
        "  #     parameter name : default value\n",
        "  AP = {\"nDimensions\":1,      # x = [x0,..,xn]\n",
        "        \"maxX\": 100,           # xi in [0..maxX]   \n",
        "        \"categorize\":[],      # [] means the output is one real number\n",
        "                              # [10,20,30] means 4 categories y=\n",
        "                              # 0 if {yy<10}, 1 if {10<=yy<20}, ..., 3 if {30<=yy} \n",
        "        \"nItemsTrain\":384000, # num of training data\n",
        "        \"nItemsTest\": 10000,  # num of testing data\n",
        "        \"function\":\"Covid-19\",    # vs \"exp\"\n",
        "        \"nGraphPoints\":100,   # number points in graph\n",
        "        \"degree\":2,           # x0^degree vs degree^x0\n",
        "        \"graph_r\":0,          # graph wrt xr\n",
        "        \"graph_x\":-1,         # graph with other values set as x = [maxX/2,...] \n",
        "        \"logscale\":False,     # if True, graph log(y)\n",
        "        \"noise\":0,            # add noise to x and y\n",
        "        \"nLayers\":2,          # num of layers in the neural network\n",
        "        \"nHidden\":512,        # num of nodes in each hidden layer\n",
        "        \"activation\":\"relu\",  # how each neuron is activated vs sigmoid\n",
        "        \"epochs\":5,           # number of passes through data\n",
        "        \"batch\":128,          # num items per hill climbing step\n",
        "        \"normalize\":True ,    # If true normalization is done otherwise not done\n",
        "        \"optimizer\":\"rmsprop\",# Optimizer to be used\n",
        "        \"graph_at_end\":False ,# Controls if all graphs only show at end of cell \n",
        "                              # after cell completes execution otherwise they \n",
        "                              # are shown once they are ready\n",
        "        \"train_verbosity\":1,  # 0 - Silent, 1 - Progress bar (see cell below)                              \n",
        "      }\n",
        "\n",
        "  # Override values with values from parameter\n",
        "  for APv in APV:    \n",
        "    if AP.get(APv[0]) is None:\n",
        "      raise Exception(f'Invalid Key for AP found: {APv[0]} in {APV}')\n",
        "    AP[APv[0]] = APv[1]\n",
        "\n",
        "  if AP['graph_x'] == -1:\n",
        "    AP['graph_x'] = [AP['maxX']/2] * AP['nDimensions']"
      ],
      "execution_count": null,
      "outputs": []
    },
    {
      "cell_type": "markdown",
      "metadata": {
        "id": "16SzJ_2i4hUi"
      },
      "source": [
        "### Additional Parameter Information\n",
        "For more information on verbosity see [keras documentation](https://keras.io/api/models/model_training_apis/)\n",
        "\n"
      ]
    },
    {
      "cell_type": "markdown",
      "metadata": {
        "id": "8r0Oj5VKv4LZ"
      },
      "source": [
        "## Supporting Math Functions"
      ]
    },
    {
      "cell_type": "markdown",
      "metadata": {
        "id": "_OFLtS-m5J9z"
      },
      "source": [
        "### argmax"
      ]
    },
    {
      "cell_type": "code",
      "metadata": {
        "id": "OBe04YOAm9rl"
      },
      "source": [
        "def argmax(iterable):\n",
        "  \"\"\"\n",
        "  Returns the index of the maximum value in the list\n",
        "  \"\"\"\n",
        "  return max(enumerate(iterable), key=lambda x: x[1])[0]"
      ],
      "execution_count": null,
      "outputs": []
    },
    {
      "cell_type": "markdown",
      "metadata": {
        "id": "fUcWE0ty5Q0U"
      },
      "source": [
        "### randx"
      ]
    },
    {
      "cell_type": "code",
      "metadata": {
        "id": "KqaN5DyM1v5B"
      },
      "source": [
        "def randx():\n",
        "  \"\"\"\n",
        "  x = randx() is a random x = [x1,..,xn]\n",
        "  \"\"\"\n",
        "  x = np.zeros(AP[\"nDimensions\"])\n",
        "  for j in range(AP[\"nDimensions\"]):\n",
        "    x[j] = random()*AP[\"maxX\"]\n",
        "  return x"
      ],
      "execution_count": null,
      "outputs": []
    },
    {
      "cell_type": "markdown",
      "metadata": {
        "id": "vFq0UkEm5Vtk"
      },
      "source": [
        "### randx"
      ]
    },
    {
      "cell_type": "code",
      "metadata": {
        "id": "Vb4i-eMD5XqS"
      },
      "source": [
        "def randCategories(r):\n",
        "  \"\"\"\n",
        "  randCategories(r):\n",
        "    Generates a random [10,20,30] giving r=4 categories\n",
        "    partitioned using r-1 values of ff(x) for random x\n",
        "  \"\"\"\n",
        "  cat = np.zeros(r-1)\n",
        "  for i in range(r-1):\n",
        "    cat[i] = ff(randx())\n",
        "  cat.sort()\n",
        "  return cat"
      ],
      "execution_count": null,
      "outputs": []
    },
    {
      "cell_type": "markdown",
      "metadata": {
        "id": "9ZLR09yav2aw"
      },
      "source": [
        "## Function Definitions"
      ]
    },
    {
      "cell_type": "markdown",
      "metadata": {
        "id": "g2nQ1Chns3_F"
      },
      "source": [
        "### Timer Class"
      ]
    },
    {
      "cell_type": "code",
      "metadata": {
        "id": "W2-I_CcYtKTA"
      },
      "source": [
        "##########################################################\n",
        "\"\"\"    \n",
        "  sStopWatch \n",
        "\"\"\"  \n",
        "##########################################################\n",
        "\n",
        "class StopWatch:\n",
        "    def __init__(self, name):\n",
        "        self.start_time = datetime.now()\n",
        "        self.name = name\n",
        "        self.end_time = None        \n",
        "        self.run_msg = \"Still Running\"\n",
        "        print(f\"{self.name} stop watch start time: {self.start_time}\")\n",
        "\n",
        "    def end(self):\n",
        "        self.end_time = datetime.now()\n",
        "        self.run_msg = f\"{self.name} stop watch runtime was {self.runtime()}\"        \n",
        "        print(self.run_msg)\n",
        "\n",
        "    def runtime(self):\n",
        "        return self.end_time - self.start_time\n",
        "\n",
        "    def as_float(self):\n",
        "        return self.runtime().total_seconds()"
      ],
      "execution_count": null,
      "outputs": []
    },
    {
      "cell_type": "markdown",
      "metadata": {
        "id": "rVMfwRjH86gB"
      },
      "source": [
        "### ff"
      ]
    },
    {
      "cell_type": "code",
      "metadata": {
        "id": "NH2ouNaAv_PR"
      },
      "source": [
        "def ff(x):\n",
        "###################################################################\n",
        "  \"\"\"                                                             \n",
        "  If custom_func is defined then returns its value otherwise, \n",
        "\n",
        "  This function is the precategory function y=f(x) to be learned\n",
        "  AP[\"function\"] specifies which function to use\n",
        "  AP[\"nDimensions\"] = 2 ie x = [x1,..,xn]\n",
        "  AP[\"degree\"] = 2 ie degree of poly or base of exp\n",
        "  \"\"\"\n",
        "###################################################################  \n",
        "\n",
        "  # if AP[\"function\"]==\"poly\":\n",
        "  #   y = 1\n",
        "  #   for i in range(AP[\"nDimensions\"]):\n",
        "  #     y *= x[i]**AP[\"degree\"] \n",
        "  #   return y\n",
        "\n",
        "  if AP[\"function\"]==\"exp\":\n",
        "    y = 1\n",
        "    for i in range(AP[\"nDimensions\"]):\n",
        "      y *= AP[\"degree\"]**x[i] \n",
        "    return y\n",
        "\n",
        "  if custom_func is not None:\n",
        "    return custom_func(x)\n",
        "\n",
        "  raise Exception(f'ff doesn\\'t know {AP[\"function\"]}')"
      ],
      "execution_count": null,
      "outputs": []
    },
    {
      "cell_type": "markdown",
      "metadata": {
        "id": "T1ZwX0UUBh5k"
      },
      "source": [
        "### categoriesY"
      ]
    },
    {
      "cell_type": "code",
      "metadata": {
        "id": "M4JfVApzwMNN"
      },
      "source": [
        "def categoriesY(yy):\n",
        "###################################################################\n",
        "  \"\"\"\n",
        "  Categorize:\n",
        "    [] means the output is one real number\n",
        "    f(x) is the function y=f(x) that is to be learned\n",
        "    [10,20,30] means 4 categories y=\n",
        "      0 if {yy<10}, 1 if {10<=yy<20}, ..., 3 if {30<=yy}\n",
        "\n",
        "  y = categoriesY(yy)                                     \n",
        "  \"\"\"\n",
        "###################################################################\n",
        "\n",
        "  y = 0\n",
        "  for c in AP[\"categorize\"]:\n",
        "    if yy>=c: \n",
        "      y += 1\n",
        "    else:\n",
        "      break\n",
        "  return y\n",
        "\n",
        "# # setAP([\"categorize\",[10,20,30]])\n",
        "# print(\"Categories:  9->\",categoriesY( 9),\n",
        "#                 \", 10->\",categoriesY(10),\n",
        "#                 \", 19->\",categoriesY(19),\n",
        "#                 \", 20->\",categoriesY(20),\n",
        "#                 \", 29->\",categoriesY(29),\n",
        "#                 \", 30->\",categoriesY(30),\n",
        "#                 \", 31->\",categoriesY(31))\n",
        "                "
      ],
      "execution_count": null,
      "outputs": []
    },
    {
      "cell_type": "markdown",
      "metadata": {
        "id": "nBn6wbi1BsKW"
      },
      "source": [
        "### f"
      ]
    },
    {
      "cell_type": "code",
      "metadata": {
        "id": "uxiYC6uEzrRG"
      },
      "source": [
        "def f(x):\n",
        "  \"\"\"\n",
        "  f(x) is the postcategory function y=f(x) to be learned\n",
        "  \"\"\"\n",
        "  if not AP[\"categorize\"]:\n",
        "    return ff(x)\n",
        "  else:\n",
        "    return categoriesY(ff(x))"
      ],
      "execution_count": null,
      "outputs": []
    },
    {
      "cell_type": "markdown",
      "metadata": {
        "id": "MKHUG6syB_oV"
      },
      "source": [
        "### predictY"
      ]
    },
    {
      "cell_type": "code",
      "metadata": {
        "id": "u1mBwKgdB8JY"
      },
      "source": [
        "def predictY(X):\n",
        "###################################################################\n",
        "  \"\"\"\n",
        "  YL = predictY(X)\n",
        "  X  = A list of all x=[x0,x1,...,xn] that we want to evaluate\n",
        "  YL = The list of Learned y values computed by network.\n",
        "\n",
        "  X is\n",
        "  Number of ___ specified by:\n",
        "    AP[\"nLayers\"] = 2 is num of layers in the neural network\n",
        "    AP[\"nHidden\"] = 512 is num of passes through data\n",
        "    AP[\"activation\"] = 'relu' is how each neuron is activated\n",
        "    AP[\"epochs\"]  = 5   is num of passes through data\n",
        "    AP[\"batch\"]   = 128 is num items per hill climbing step\n",
        "  \"\"\"\n",
        " ###################################################################\n",
        "\n",
        "  X = normalizeX(X)\n",
        "  YL = np.zeros(AP[\"nGraphPoints\"])\n",
        "  if network != 0:\n",
        "    YCat = network.predict(X)\n",
        "  else:            \n",
        "    YCat = np.zeros((AP[\"nGraphPoints\"],1))\n",
        "  if len(YCat[0])==1:  # the y answer from the network has only one value\n",
        "    for i in range(len(YCat)):\n",
        "      YL[i] = YCat[i][0]\n",
        "    YL = denormalizeY(YL)\n",
        "  else:   # This is categorical \n",
        "          #   ie YCat[0] = [0.01, 0.01, 0.9 ,0.01,..] \n",
        "          # means YL[0] = 2   \n",
        "    for i in range(len(YCat)):\n",
        "      YL[i] = argmax(YCat[i])\n",
        "  return YL\n",
        "\n"
      ],
      "execution_count": null,
      "outputs": []
    },
    {
      "cell_type": "markdown",
      "metadata": {
        "id": "ngiYYsR1CrJP"
      },
      "source": [
        "### graph"
      ]
    },
    {
      "cell_type": "code",
      "metadata": {
        "id": "xYQ--mhkCtHm"
      },
      "source": [
        "def graph(suffix = '',learned=True):\n",
        " ###################################################################\n",
        "  \"\"\"\n",
        "  Graphs given and learned function\n",
        "    AP[\"graph_r\"] = r in range(nDimensions)\n",
        "    is such that x_r is horizontal axis of graph\n",
        "    with 100 values in range(maxX)\n",
        "    AP[\"graph_x\"] = x = [x0,x1,...,xn]\n",
        "    sets the values of the other variables\n",
        "    network if one has been learned yet\n",
        "  \"\"\"\n",
        " ###################################################################\n",
        "\n",
        "  r = AP[\"graph_r\"]\n",
        "  x = AP[\"graph_x\"]\n",
        "  X  = np.zeros((AP[\"nGraphPoints\"],AP[\"nDimensions\"]))  # A list of all x=[x0,x1,...,xn] that we want to evaluate\n",
        "  Xr = np.zeros(AP[\"nGraphPoints\"]) # A list of all values of xr that we are plotting. This horizontal axes. \n",
        "  Yf = np.zeros(AP[\"nGraphPoints\"]) # A list of the correct y = f(x) values. This vertical axes.\n",
        "  YL = np.zeros(AP[\"nGraphPoints\"]) # A list of Learned y values. This second vertical axes.\n",
        "  for i in range(AP[\"nGraphPoints\"]):\n",
        "    X[i] = x\n",
        "    Xr[i] = (i/AP[\"nGraphPoints\"]) * AP[\"maxX\"]        \n",
        "    X[i][r] = Xr[i]\n",
        "    Yf[i] = f(X[i])\n",
        "  YL = predictY(X)  \n",
        "  if AP[\"logscale\"]:\n",
        "    takeLog(Yf)\n",
        "    takeLog(YL)\n",
        "\n",
        "  plt.figure(figsize=(6,6))    \n",
        "  if learned: plt.plot(Xr,YL, label='Learned Y', )  \n",
        "  plt.plot(Xr,Yf, label='Ground Y')\n",
        "  plt.plot([0],[0]) # Ensure graph includes origin\n",
        "  makeTitles(r, x, suffix)\n",
        "  if not AP['graph_at_end']:\n",
        "    plt.show()\n",
        "    plt.close()"
      ],
      "execution_count": null,
      "outputs": []
    },
    {
      "cell_type": "markdown",
      "metadata": {
        "id": "OwusEX52EPQ0"
      },
      "source": [
        "### makeTitles"
      ]
    },
    {
      "cell_type": "code",
      "metadata": {
        "id": "-tHzc8XRD-Zx"
      },
      "source": [
        "def makeTitles(r, x, suffix):\n",
        "  ###################################################################\n",
        "  \"\"\"\n",
        "  Makes titles/labels for Graphs\n",
        "  \"\"\"\n",
        "  ###################################################################\n",
        "\n",
        "  title = \"y=f(x\" + str(r) + \") \" + AP[\"function\"]\n",
        "  if AP[\"logscale\"]: title += \" logscale\"\n",
        "  if AP[\"categorize\"]: title += \" categories\"\n",
        "  title += suffix\n",
        "  xx = x.copy()\n",
        "  xx[r] = \"x\"+str(r)\n",
        "  plt.title(title, fontsize=20)\n",
        "  plt.legend()\n",
        "  plt.xlabel(str(xx), fontsize=15)\n",
        "  plt.ylabel(\"y\", fontsize=15)"
      ],
      "execution_count": null,
      "outputs": []
    },
    {
      "cell_type": "markdown",
      "metadata": {
        "id": "jt71BHK7ER8N"
      },
      "source": [
        "### takeLog"
      ]
    },
    {
      "cell_type": "code",
      "metadata": {
        "id": "mzs0934TEUEa"
      },
      "source": [
        "def takeLog(Y):\n",
        "  for i in range(len(Y)):\n",
        "    Y[i] = math.log10( Y[i] )"
      ],
      "execution_count": null,
      "outputs": []
    },
    {
      "cell_type": "markdown",
      "metadata": {
        "id": "hLgX7f5wJB-U"
      },
      "source": [
        "### buildDataSet"
      ]
    },
    {
      "cell_type": "code",
      "metadata": {
        "id": "jLpWTriqJAi5"
      },
      "source": [
        "def buildDataSet(nItems):\n",
        "###################################################################\n",
        "  \"\"\"\n",
        "  x is random with shape (nItemsTrain,nDimensions)\n",
        "  y is computed using y=f(x)\n",
        "\n",
        "  Number of ___ specified by:\n",
        "    AP[\"nItemsTrain\"] = 60000\n",
        "    AP[\"nItemsTest\"]  = 10000\n",
        "    AP[\"nDimensions\"] = 2   ie x = [x1,..,xn]\n",
        "    AP[\"maxX\"]        = 100 ie xi = random in [0..maxX]\n",
        "  \"\"\"\n",
        "###################################################################\n",
        "\n",
        "  X = np.zeros((nItems,AP[\"nDimensions\"]))\n",
        "  Y = np.zeros(nItems)\n",
        "  for i in range(nItems):\n",
        "    for j in range(AP[\"nDimensions\"]):\n",
        "      X[i][j] = random()*AP[\"maxX\"]\n",
        "    Y[i] = f(X[i])\n",
        "  return X,Y"
      ],
      "execution_count": null,
      "outputs": []
    },
    {
      "cell_type": "markdown",
      "metadata": {
        "id": "8EmDIGQtJHBi"
      },
      "source": [
        "### buildDataAll"
      ]
    },
    {
      "cell_type": "code",
      "metadata": {
        "id": "QDaHAXIHJEWm"
      },
      "source": [
        "def buildDataAll():\n",
        "###################################################################\n",
        "  \"\"\"  \n",
        "  Results:\n",
        "    Stored in trainX,trainY\n",
        "    Stored in testX, testY\n",
        "  \"\"\"\n",
        "###################################################################\n",
        "\n",
        "  global trainX, trainY, testX, testY\n",
        "  trainX,trainY = buildDataSet(AP[\"nItemsTrain\"])\n",
        "  testX, testY  = buildDataSet(AP[\"nItemsTest\"])"
      ],
      "execution_count": null,
      "outputs": []
    },
    {
      "cell_type": "markdown",
      "metadata": {
        "id": "UsWbCANMKA9S"
      },
      "source": [
        "### AddNoise"
      ]
    },
    {
      "cell_type": "code",
      "metadata": {
        "id": "9IoK82_xJ_WC"
      },
      "source": [
        "###################################################################\n",
        "\"\"\"  \n",
        "  AddNoise(trainX,trainY) adds noise to (trainX,trainY)   \n",
        "    Added noise = random in [-noise/2,+noise/2]           \n",
        "    Note the value of Y is computed                       \n",
        "     from the noiseless version of X                      \n",
        "    (Let's not add noise to our test data)                \n",
        "\"\"\"  \n",
        "###################################################################\n",
        "\n",
        "def AddNoiseX(X,noise):\n",
        "  for i in range(len(X)):\n",
        "    for j in range(len(X[i])):\n",
        "      X[i][j] += (random()-0.5) * noise\n",
        "\n",
        "def AddNoiseY(Y,noise):\n",
        "  for i in range(len(Y)):\n",
        "     Y[i] += (random()-0.5) * noise\n",
        "\n",
        "def AddNoise():\n",
        "  AddNoiseX(trainX,AP[\"noise\"])\n",
        "  AddNoiseY(trainY,AP[\"noise\"])"
      ],
      "execution_count": null,
      "outputs": []
    },
    {
      "cell_type": "markdown",
      "metadata": {
        "id": "dHoeeuFfLEfI"
      },
      "source": [
        "### learn"
      ]
    },
    {
      "cell_type": "code",
      "metadata": {
        "id": "4HDX8TYYLF_6"
      },
      "source": [
        "def learn():\n",
        "###################################################################\n",
        "  \"\"\"\n",
        "  Categorical or Regression ie one output\n",
        "    Number of ___ specified by:\n",
        "      AP[\"nLayers\"] = 2 is num of layers in the neural network\n",
        "      AP[\"nHidden\"] = 512 is num of passes through data\n",
        "      AP[\"activation\"] = 'relu' is how each neuron is activated\n",
        "      AP[\"epochs\"]  = 5   is num of passes through data\n",
        "      AP[\"batch\"]   = 128 is num items per hill climbing step\n",
        "  \"\"\"\n",
        "###################################################################\n",
        "  global network\n",
        "  # print(trainX.shape,trainX[3])\n",
        "  # print(trainY.shape,trainY[3])\n",
        "  trainXNorm, trainYNorm = normalize()\n",
        "  testXNorm, testYNorm = normalizeTest()\n",
        "  if AP[\"categorize\"]:\n",
        "    # learned output is a vector of probabilities\n",
        "    trainYCat = to_categorical(trainYNorm)  # turn into vector of probabilities.\n",
        "    testYCat  = to_categorical(testYNorm)\n",
        "  else: \n",
        "   # learned output is simpy y\n",
        "    trainYCat = trainYNorm\n",
        "    testYCat  = testYNorm\n",
        "  \n",
        "  network = models.Sequential()\n",
        "  network.add(layers.Dense(AP[\"nHidden\"], \n",
        "                           activation=AP[\"activation\"], \n",
        "                           input_shape=(AP[\"nDimensions\"],)))\n",
        "  for i in range(AP[\"nLayers\"]-2):  # For default nLayers, nothing happens here\n",
        "    network.add(layers.Dense(AP[\"nHidden\"], activation=AP[\"activation\"]))\n",
        "\n",
        "  if AP[\"categorize\"]:\n",
        "    # softmax and crossentropy are good for \"probabilities\"\n",
        "    network.add(layers.Dense(len(AP[\"categorize\"])+1, activation='softmax'))\n",
        "    network.compile(\n",
        "                    optimizer=AP['optimizer'], \n",
        "                    loss='categorical_crossentropy',\n",
        "                    metrics=['accuracy'])\n",
        "  else: \n",
        "    # we just left top layer activation blank, i.e. simply z = weighted sum \n",
        "    # expect \"accuracy\" to be bad because none of the real answers will be perfect.\n",
        "    # I got optimizer='adam' from googling regression. This was my bug.\n",
        "    network.add(layers.Dense(1))\n",
        "    network.compile(\n",
        "                    optimizer=AP['optimizer'],\n",
        "                    loss='mean_squared_error',\n",
        "                    metrics=['mae'])\n",
        "  \n",
        "  network.fit(trainXNorm,trainYCat, \n",
        "              epochs=AP[\"epochs\"], batch_size=AP[\"batch\"], \n",
        "              verbose=AP['train_verbosity']) \n",
        "  test_loss, test_acc = network.evaluate(testXNorm,testYCat)\n",
        "  return test_loss"
      ],
      "execution_count": null,
      "outputs": []
    },
    {
      "cell_type": "markdown",
      "metadata": {
        "id": "n8cITVjsbyXz"
      },
      "source": [
        "### normalize"
      ]
    },
    {
      "cell_type": "code",
      "metadata": {
        "id": "baDmLHtMXUo0"
      },
      "source": [
        "def normalizeD(data):\n",
        "  data = np.ndarray.copy(data)\n",
        "  mean = data.mean(axis=0)\n",
        "  data -= mean\n",
        "  std = data.std(axis=0)\n",
        "  data /= std\n",
        "  return mean, std, data\n",
        "  \n",
        "def normalize():  \n",
        "  global meanX, stdX, meanY, stdY\n",
        "  if not AP['normalize']: \n",
        "    trainXNorm, trainYNorm = trainX, trainY\n",
        "  else:\n",
        "    meanX, stdX, trainXNorm = normalizeD(trainX)\n",
        "    if not AP[\"categorize\"]:\n",
        "      meanY, stdY, trainYNorm = normalizeD(trainY)\n",
        "    else:\n",
        "      meanY = 0\n",
        "      stdY = 1\n",
        "      trainYNorm = trainY\n",
        "  return trainXNorm, trainYNorm\n",
        "\n",
        "def normalizeTest():\n",
        "  global testX, testY\n",
        "  if not AP['normalize']: \n",
        "    testXNorm, testYNorm = testX, testY\n",
        "  else:\n",
        "    testXNorm = (testX-meanX)/stdX\n",
        "    if not AP[\"categorize\"]:\n",
        "      testYNorm = (testY-meanY)/stdY\n",
        "    else:\n",
        "      testYNorm = testY\n",
        "  return testXNorm, testYNorm\n",
        "\n",
        "def normalizeX(X):\n",
        "  return (X-meanX)/stdX\n",
        "\n",
        "def denormalizeY(Y):\n",
        "  return Y*stdY+meanY\n"
      ],
      "execution_count": null,
      "outputs": []
    },
    {
      "cell_type": "markdown",
      "metadata": {
        "id": "MAJ5iGI-L1KW"
      },
      "source": [
        "### all"
      ]
    },
    {
      "cell_type": "code",
      "metadata": {
        "id": "95ApmTXFL0eU"
      },
      "source": [
        "def all(*APV):\n",
        "###################################################################\n",
        "  \"\"\"\n",
        "  all(APValues) does all for specified value of AP\n",
        "  APV specifies a list of Attempt Parameters to set\n",
        "    eg all([\"function\",\"exp\"],[\"degree\",3])\n",
        "    returns the test_loss\n",
        "  \"\"\"\n",
        "###################################################################\n",
        "\n",
        "  test_loss = all_no_graph(*APV)\n",
        "  graph()\n",
        "  return test_loss"
      ],
      "execution_count": null,
      "outputs": []
    },
    {
      "cell_type": "markdown",
      "metadata": {
        "id": "5gUY1oLkzasH"
      },
      "source": [
        "### all_no_graph"
      ]
    },
    {
      "cell_type": "code",
      "metadata": {
        "id": "chPkXRI7zkCl"
      },
      "source": [
        "def all_no_graph(*APV):\n",
        "###################################################################\n",
        "  \"\"\"\n",
        "  all(APValues) does all for specified value of AP\n",
        "  APV specifies a list of Attempt Parameters to set\n",
        "    eg all([\"function\",\"exp\"],[\"degree\",3])\n",
        "    returns the test_loss\n",
        "  \"\"\"\n",
        "###################################################################\n",
        "\n",
        "  setAP(*APV)\n",
        "  buildDataAll()\n",
        "  AddNoise()\n",
        "  test_loss = learn()  \n",
        "  return test_loss"
      ],
      "execution_count": null,
      "outputs": []
    },
    {
      "cell_type": "markdown",
      "metadata": {
        "id": "a8W9NpOHMvA1"
      },
      "source": [
        "### plotAP"
      ]
    },
    {
      "cell_type": "code",
      "metadata": {
        "id": "4SEWtIy1MuDl"
      },
      "source": [
        "def plotAP(eachGraph:bool,APParameter,APRange,APV=None):\n",
        "###################################################################\n",
        "  \"\"\"\n",
        "  Plotting AP vs test_loss\n",
        "    APParameter: which parameter to vary, eg \"degree\"\n",
        "    APRange: values to try, eg [2,3,5,10]\n",
        "    APV: other parameters to fix to non-default values\n",
        "      ([\"function\",\"exp\"],[\"degree\",3]])\n",
        "  \"\"\"\n",
        "###################################################################\n",
        "  if APV is None:\n",
        "    APV = []\n",
        "\n",
        "  # APRange is our horizontal axis and Test_loss our vertical axis\n",
        "  Test_loss = np.zeros(\n",
        "      len(APRange))\n",
        "  for i in range(len(APRange)):\n",
        "    print(f'Build for {APParameter} = {APRange[i]}')\n",
        "    APNew = APV + [[APParameter, APRange[i]], ]       \n",
        "    test_loss = all_no_graph(*APNew)\n",
        "    Test_loss[i] = test_loss\n",
        "    if eachGraph:\n",
        "      graph(f' - ({APRange[i]})')      \n",
        "  print(APRange, Test_loss)\n",
        "\n",
        "  # Plot test loss against parameter settings\n",
        "  plt.figure(figsize=(6, 6))\n",
        "  plt.plot(APRange, Test_loss)\n",
        "  plt.xlabel(f'{APParameter}', fontsize=15)\n",
        "  plt.ylabel('Test Loss', fontsize=15)\n",
        "  plt.title(f'Different \"{APParameter}\"', fontsize=20)\n",
        "  if not AP['graph_at_end']:\n",
        "    plt.show()\n",
        "    plt.close()"
      ],
      "execution_count": null,
      "outputs": []
    },
    {
      "cell_type": "markdown",
      "metadata": {
        "id": "gQZIVj3O5qTe"
      },
      "source": [
        "## Example Code"
      ]
    },
    {
      "cell_type": "code",
      "metadata": {
        "id": "K96SxhQkOKsR"
      },
      "source": [
        "# setAP()\n",
        "# #graph() \n",
        "\n",
        "# # setAP([\"graph_x\",randx()])\n",
        "# # graph() \n",
        "# # setAP([\"categorize\",[25**2,50**2,75**2]])\n",
        "# # graph() \n",
        "# # setAP([\"function\",\"exp\"])\n",
        "# # graph() \n",
        "# # setAP([\"function\",\"exp\"],[\"logscale\",True])\n",
        "# # graph()\n",
        "\n",
        "# X_example,Y_example = buildDataSet(4)\n",
        "# print(X_example)\n",
        "# print(Y_example)\n",
        "\n",
        "# setAP()\n",
        "# buildDataAll()\n",
        "# print(trainX.shape,trainY.shape)\n",
        "# print(testX.shape, testY.shape)\n",
        "\n",
        "# X_example = np.array([[30.0,40.0],[50.0,60.0]])\n",
        "# Y_example = np.array([30.0,40.0])\n",
        "# AddNoiseX(X_example,1)\n",
        "# AddNoiseY(Y_example,1)\n",
        "# print(X_example)\n",
        "# print(Y_example)\n",
        "\n",
        "def hide():\n",
        "  setAP()\n",
        "  graph() \n",
        "  setAP([\"graph_x\",randx()])\n",
        "  graph() \n",
        "  setAP([\"categorize\",[20**2,89**2]])\n",
        "  graph() \n",
        "  setAP([\"function\",\"exp\"])\n",
        "  graph() \n",
        "  setAP([\"function\",\"exp\"],[\"logscale\",True])\n",
        "  graph()\n",
        "\n",
        "# setAP()\n",
        "# print(\"f = \",f([4,4]))\n",
        "# setAP([\"categorize\",[10,20,30]])\n",
        "# print(\"f cat = \",f([4,4]))"
      ],
      "execution_count": null,
      "outputs": []
    },
    {
      "cell_type": "code",
      "metadata": {
        "id": "B7Ir758s5_mE"
      },
      "source": [
        "# import numpy as np\n",
        "# import matplotlib.pyplot as plt\n",
        "# npoints = 100\n",
        "\n",
        "# # r[i] = 2 * math.sin(4 * theta[i] ) * theta[i] \n",
        "\n",
        "# theta  = np.zeros(npoints)\n",
        "# r = np.zeros(npoints)\n",
        "# for i in range(npoints):\n",
        "#   theta[i] = 30*math.pi *i /npoints\n",
        "#   r[i] = theta[i]\n",
        "\n",
        "# YL = predictY(theta)  \n",
        "# fig, ax = plt.subplots(subplot_kw={'projection': 'polar'})\n",
        "# ax.plot(theta, r)\n",
        "# # ax.set_rmax(2)\n",
        "# # ax.set_rticks([0.5, 1, 1.5, 2])  # Less radial ticks\n",
        "# # ax.set_rlabel_position(-22.5)  # Move radial labels away from plotted line\n",
        "# ax.grid(True)\n",
        "\n",
        "# ax.set_title(\"A line plot on a polar axis\", va='bottom')\n",
        "# plt.show()"
      ],
      "execution_count": null,
      "outputs": []
    },
    {
      "cell_type": "markdown",
      "metadata": {
        "id": "IP1UzNZU5u-s"
      },
      "source": [
        "# Students to Change\n",
        "Once you feel comfortable, you can change the stuff above too."
      ]
    },
    {
      "cell_type": "markdown",
      "metadata": {
        "id": "O9MtwlP99YhD"
      },
      "source": [
        "## The Story"
      ]
    },
    {
      "cell_type": "code",
      "metadata": {
        "id": "6OFCcGFW7e9v"
      },
      "source": [
        "##########################################################################\n",
        "# The story                                              \n",
        "##########################################################################\n",
        "#\n",
        "# Make up a story.\n",
        "# Here is the example that Chester used for the Cameroon group.\n",
        "# \n",
        "# You work for a fruit and vegetable store.\n",
        "# Your job is to determine which papayas to buy \n",
        "#   from the market to sell in your store.\n",
        "# You choose input variables\n",
        "# - x0=colour     0 = bright orange .... 10=black\n",
        "#   x1=firmness   0 = squishy       .... 10=hard\n",
        "#   ..... have many variables nDimensions=\"# of variables\"\n",
        "#   maxX=10=\"range of variables\"\n",
        "#\n",
        "# Let the output y be how sweet the papaya is,\n",
        "# Then have categories\n",
        "#   c=\"do I want to eat it\"    0=no ... 10=\"buy me a case\".\n",
        "# \n",
        "# If you were doing this in the field, \n",
        "#   you would collect data by sampling lots of papayas.\n",
        "#     nItemsTrain+nItemsTest=\"how many papayas you want to collect data from.\n",
        "#\n",
        "# But we are going to cheat and make up our data.\n",
        "#   (I did this for a grade 8 science project for which I got an A+)\n",
        "#   (Could I train sow bugs to turn left or right? Reality no. Fiction yes.)\n",
        "#\n",
        "# Let y=f(x0,...x{n-1}) be some function that gives sweetness given parameters.\n",
        "# Let function=\"name\" be the name of your function\n",
        "# Try many different such functions\n",
        "#   If you like, degree=0,1,2,...  be a parameter that modifies f in some way.\n",
        "#   Add some noise to this data if you like.\n",
        "# Let categorize=[10,20,40] be the sweetness levels that determine \n",
        "#   whether you want to eat the papya.\n",
        "#\n",
        "# Then you need to do machine learning to learn this relationship.\n",
        "# Machine learning is famous for having many meta parameters to set.\n",
        "# Researchers tend to simply try a lot of them.\n",
        "# Which ones do you want to try?\n",
        "#\n",
        "# Then you need to write a report of the results for your boss \n",
        "# The report will need lots of graphs.\n",
        "#\n",
        "# Have fun.\n",
        "#   Jeff\n",
        "##########################################################################"
      ],
      "execution_count": null,
      "outputs": []
    },
    {
      "cell_type": "markdown",
      "metadata": {
        "id": "AlieSNZCBYN9"
      },
      "source": [
        "## Quick Reference"
      ]
    },
    {
      "cell_type": "code",
      "metadata": {
        "id": "ASwLgLGC2Umu"
      },
      "source": [
        "##########################################################\n",
        "# List of \"Attempt Parameters\" (a global variable)       #\n",
        "##########################################################\n",
        "\n",
        "{       \"nDimensions\":1,      # x = [x0,..,x{n-1}] x=[x0] x0: sweetness\n",
        "        \"maxX\":100,           # xi in [0..maxX]   \n",
        "        \"categorize\":[],      # [] means the output is one real number\n",
        "                              # [10,20,30] means 4 categories y=\n",
        "                              # 0 if {yy<10}, 1 if {10<=yy<20}, ..., 3 if {30<=yy} \n",
        "        \"nItemsTrain\":384000, # num of training data\n",
        "        \"nItemsTest\": 10000,  # num of testing data\n",
        "        \"function\":\"poly\",    # vs \"exp\"\n",
        "        \"nGraphPoints\":100,   # number points in graph\n",
        "        \"degree\":2,           # x0^degree vs degree^x0\n",
        "        \"graph_r\":0,          # graph wrt xr\n",
        "        \"graph_x\":-1,         # graph with other values set as x = [maxX/2,...] \n",
        "        \"logscale\":False,     # if True, graph log(y)\n",
        "        \"noise\":0,            # add noise to x and y\n",
        "        \"nLayers\":2,          # num of layers in the neural network\n",
        "        \"nHidden\":512,        # num of nodes in each hidden layer\n",
        "        \"activation\":\"relu\",  # how each neuron is activated vs sigmoid\n",
        "        \"epochs\":5,           # number of passes through data\n",
        "        \"batch\":128,          # num items per hill climbing step\n",
        "        \"normalize\":True ,    # If true normalization is done otherwise not done\n",
        "        \"optimizer\":\"rmsprop\",# Optimizer to be used\n",
        "        \"graph_at_end\":False ,# Controls if all graphs only show at end of cell \n",
        "                              # after cell completes execution otherwise they \n",
        "                              # are shown once they are ready\n",
        "        \"train_verbosity\":1,  # 0 - Silent, 1 - Progress bar (see cell below)                              \n",
        "};  \n",
        "\n",
        "###################################################################\n",
        "# setAP(APValues)                                        \n",
        "#    AP are \"Attempt Parameters\" (a global variable)   \n",
        "#    setAP([\"function\",\"student1\"],[\"maxX\",3*math.pi])   \n",
        "# StopWatch('Regression')\n",
        "#    Keeps track of running time\n",
        "# graph(suffix = '',learned=True)\n",
        "#    Graphs given and learned function\n",
        "#    Graph(learned=False) - does not print the learned graph\n",
        "# all(*APV):\n",
        "#    Runs and graphs one example\n",
        "#    all([\"function\",\"student1\"],[\"maxX\",3*math.pi]) \n",
        "#    all([\"categorize\",[20**2, 60**2]]) \n",
        "# plotAP(eachGraph:bool,APParameter,APRange,APV=None)\n",
        "#    Runs an example for a list of attempt partameters\n",
        "#    plotAP(True,\"degree\",[2,3,5,10], [['epochs', 1], ])\n",
        "###################################################################\n",
        "# Runtime/Runall\n",
        "#    Run all the cells starting at the top\n",
        "#    You need to do this when you first load the file\n",
        "# Runtime/Interupt Execution\n",
        "#    You can edit the file as it is running\n",
        "#    You can also get it to stop if it is taking too long\n",
        "# File/Save a copy in Drive  \n",
        "#    make your own copy in googledrive/Colabs Notebooks)\n",
        "# File/Save\n",
        "#    save your own version                  \n",
        "# File/Save an pin revision  \n",
        "#    save versions that are working incase you want to back track\n",
        "###################################################################"
      ],
      "execution_count": null,
      "outputs": []
    },
    {
      "cell_type": "markdown",
      "metadata": {
        "id": "mPMMjLuZ9W0F"
      },
      "source": [
        "## Define custom function"
      ]
    },
    {
      "cell_type": "code",
      "metadata": {
        "id": "eRJm_Y459Q-8"
      },
      "source": [
        "def custom_func(x):\n",
        "  \"\"\"\n",
        "  Example produces a product of all x values\n",
        "  \"\"\"\n",
        "  # if AP[\"function\"]==\"student1\":\n",
        "  #   y = 1\n",
        "  #   for i in range(AP[\"nDimensions\"]):\n",
        "  #     y *= math.cos(x[i]) \n",
        "  #   return y \n",
        "\n",
        "  # Function 1: cos(x) * |sin(x^[\"degree\"])|\n",
        "  # if AP[\"function\"]==\"Oscillator\":\n",
        "  #   y = 1\n",
        "  #   for i in range(AP[\"nDimensions\"]):  \n",
        "  #     y *= ((math.cos(x[i])) * (abs(math.sin(x[i]**AP[\"degree\"]))))\n",
        "  #   return y \n",
        "\n",
        "  # Function 2: |(x^degree) - 1|\n",
        "  if AP[\"function\"]==\"AbsoluteValue\":\n",
        "    y = 1\n",
        "    for i in range(AP[\"nDimensions\"]):\n",
        "      if x[i] != 0:\n",
        "        y *= abs((x[i]**AP[\"degree\"]) - 1)\n",
        "    return y \n",
        "\n",
        "  # if AP[\"function\"]==\"electricity\":\n",
        "  #   y = 1\n",
        "  #   for i in range(AP[\"nDimensions\"]):\n",
        "  #     for c in range(0, 100, 5):\n",
        "  #       y *= (((x[i] - 1) ** 2)/(x**2 - 1)) * c\n",
        "  #   return y \n",
        "\n",
        "  # Function Covid-19\n",
        "  import random\n",
        "\n",
        "  if AP[\"function\"]==\"Covid-19\":\n",
        "    y = 1\n",
        "    for i in range(AP[\"nDimensions\"]):\n",
        "      for m in range(0, int((AP[\"maxX\"] - AP[\"maxX\"]/2.5)), 5):\n",
        "        if (int(AP[\"maxX\"] - AP[\"maxX\"]/5)) <= m <= int((AP[\"maxX\"] - AP[\"maxX\"]/2.5)):\n",
        "          if (((x[i] - 1) ** 2)/(x**2 - 1)) * random.randint(0, int((AP[\"maxX\"] - AP[\"maxX\"]/5))) < 0:\n",
        "            pass\n",
        "          else:\n",
        "            y *= (((x[i] - 1) ** 2)/(x**2 - 1)) * random.randint(0, int((AP[\"maxX\"] - AP[\"maxX\"]/5)))\n",
        "\n",
        "        else:\n",
        "          if (((x[i] - 1) ** 2)/(x**2 - 1)) * random.randint(0, int((AP[\"maxX\"] - AP[\"maxX\"]/5))) < 0:\n",
        "            pass\n",
        "          else:\n",
        "            y *= (((x[i] - 1) ** 2)/(x**2 - 1)) * random.randint(0, int((AP[\"maxX\"] - AP[\"maxX\"]/2)))\n",
        "\n",
        "      for m in range(int((AP[\"maxX\"] - AP[\"maxX\"]/2.5)), AP[\"maxX\"], 5):\n",
        "        if (((x[i] - 1) ** 2)/(x**2 - 1)) * random.randint(0, int((AP[\"maxX\"] - AP[\"maxX\"]/5))) < 0:\n",
        "          pass\n",
        "        else:\n",
        "          y *= (((x[i] - 1) ** 2)/(x**2 - 1)) * random.randint(0, int((AP[\"maxX\"] - AP[\"maxX\"]/10)))\n",
        "\n",
        "    return y \n",
        "\n",
        "\n",
        "# if AP[\"function\"]==\"Covid-19\":\n",
        "#     y = 1\n",
        "#     for i in range(AP[\"nDimensions\"]):\n",
        "#       for m in range(0, (AP[\"maxX\"] - AP[\"maxX\"]/2.5), 5):\n",
        "#         if 45 <= m <= 60:\n",
        "#           y *= (((x[i] - 1) ** 2)/(x**2 - 1)) * random.randint(0, 70)\n",
        "#         else:\n",
        "#           y *= (((x[i] - 1) ** 2)/(x**2 - 1)) * random.randint(0, 10)\n",
        "\n",
        "#       for m in range(60, 100, 5):\n",
        "#         y *= (((x[i] - 1) ** 2)/(x**2 - 1)) * random.randint(0, 50)\n",
        "\n",
        "#     return y\n",
        "\n",
        "# if AP[\"function\"]==\"electricity\":\n",
        "#     y = 1\n",
        "#     for i in range(AP[\"nDimensions\"]):\n",
        "#       for m in range(0, 100, 5):\n",
        "#         y *= (((x[i] - 1) ** 2)/(x**2 - 1)) * random.randint(0, 50)\n",
        "#     return y\n",
        "\n",
        "  # if AP[\"function\"]==\"electricity\":\n",
        "  #   y = 1\n",
        "  #   for i in range(AP[\"nDimensions\"]):\n",
        "  #     if 0 <= x[i] <= 5:\n",
        "  #       y *= (((x[i] - 1) ** 2)/(x**2 - 1)) * 1000000\n",
        "  #     elif 5 < x[i] <= 10:\n",
        "  #       y *= (((x[i] - 1) ** 2)/(x**2 - 1)) * 500\n",
        "  #     elif 10 < x[i] <= 15:\n",
        "  #       y *= (((x[i] - 1) ** 2)/(x**2 - 1)) * 4\n",
        "  #     elif 15 < x[i] <= 20:\n",
        "  #       y *= (((x[i] - 1) ** 2)/(x**2 - 1)) * 10000\n",
        "  #     elif 20 < x[i] <= 25:\n",
        "  #       y *= (((x[i] - 1) ** 2)/(x**2 - 1)) * 6123\n",
        "  #     elif 25 < x[i] <= 30:\n",
        "  #       y *= (((x[i] - 1) ** 2)/(x**2 - 1)) * 71\n",
        "  #     elif 30 < x[i] <= 35:\n",
        "  #       y *= (((x[i] - 1) ** 2)/(x**2 - 1)) * 8\n",
        "  #     elif 35 < x[i] <= 40:\n",
        "  #       y *= (((x[i] - 1) ** 2)/(x**2 - 1)) * 9123\n",
        "  #     elif 40 < x[i] <= 45:\n",
        "  #       y *= (((x[i] - 1) ** 2)/(x**2 - 1)) * 0\n",
        "  #     elif 45 < x[i] <= 50:\n",
        "  #       y *= (((x[i] - 1) ** 2)/(x**2 - 1)) * 1112321\n",
        "  #     elif 50 < x[i] <= 55:\n",
        "  #       y *= (((x[i] - 1) ** 2)/(x**2 - 1)) * 12\n",
        "  #     elif 55 < x[i] <= 60:\n",
        "  #       y *= (((x[i] - 1) ** 2)/(x**2 - 1)) * 473\n",
        "  #     elif 60 < x[i] <= 65:\n",
        "  #       y *= (((x[i] - 1) ** 2)/(x**2 - 1)) * 14\n",
        "  #     elif 65 < x[i] <= 70:\n",
        "  #       y *= (((x[i] - 1) ** 2)/(x**2 - 1)) * 1123\n",
        "  #     elif 70 < x[i] <= 75:\n",
        "  #       y *= (((x[i] - 1) ** 2)/(x**2 - 1)) * 16\n",
        "  #     elif 75 < x[i] <= 80:\n",
        "  #       y *= (((x[i] - 1) ** 2)/(x**2 - 1)) * 144\n",
        "  #     elif 80 < x[i] <= 85:\n",
        "  #       y *= (((x[i] - 1) ** 2)/(x**2 - 1)) * 310000\n",
        "  #     elif 85 < x[i] <= 90:\n",
        "  #       y *= (((x[i] - 1) ** 2)/(x**2 - 1)) * 35\n",
        "  #     elif 90 < x[i] <= 95:\n",
        "  #       y *= (((x[i] - 1) ** 2)/(x**2 - 1)) * 50000\n",
        "  #     elif 95 < x[i] <= 100:\n",
        "  #       y *= (((x[i] - 1) ** 2)/(x**2 - 1)) * 1000\n",
        "  #   return y \n",
        "\n",
        "\n",
        "  #Function 3: (3*x/cosx)\n",
        "  # if AP[\"function\"]==\"electricity\":\n",
        "  #   y = 1\n",
        "  #   for i in range(AP[\"nDimensions\"]):\n",
        "  #     if 0 <= x[i] <= 20:\n",
        "  #       y *= (((x[i] - 1) ** 2)/(x**2 - 1)) * 9\n",
        "  #     elif 20 < x[i] <= 60:\n",
        "  #       y *= (((x[i] - 1) ** 2)/(x**2 - 1)) * 0.5\n",
        "  #     elif 60 < x[i] <= 100:\n",
        "  #       y *= (((x[i] - 1) ** 2)/(x**2 - 1)) * 0.2\n",
        "  #    return y\n",
        "\n",
        "  # # Function 3: (3*x/cosx)\n",
        "  # if AP[\"function\"]==\"cosWaves\":\n",
        "  #   y = 1\n",
        "  #   for i in range(AP[\"nDimensions\"]):\n",
        "  #     if ((x[i]/5)/(math.cos(x[i])/5)) < 0:\n",
        "  #       pass\n",
        "  #     else:\n",
        "  #       y *= (x[i]/105)/(math.cos(x[i])/105)\n",
        "  #   return y\n",
        "\n",
        "  # if AP[\"function\"]==\"tanx\":\n",
        "  #   y = 1\n",
        "  #   for i in range(AP[\"nDimensions\"]):\n",
        "  #     if x[i] != 0:\n",
        "  #       y *= \n",
        "  #   return y \n",
        "\n",
        "  # if AP[\"function\"]==\"Reciprocal\":\n",
        "  #   y = 1\n",
        "  #   for i in range(AP[\"nDimensions\"]):\n",
        "  #     if x[i] != 0:\n",
        "  #       y *= abs((1/(x[i]**AP[\"degree\"])) - AP[\"degree\"])\n",
        "  #       # y *= (abs((1/((x[i])**AP[\"degree\"]) - AP[\"degree\"]))\n",
        "  #   return y \n",
        "\n",
        "  # if AP[\"function\"]==\"Reciprocal\":\n",
        "  #   y = 1\n",
        "  #   for i in range(AP[\"nDimensions\"]):\n",
        "  #     y *= (abs((1/((x[i])**AP[\"degree\"]) - AP[\"degree\"]))\n",
        "  #   return y\n",
        "  \n",
        "  # if AP[\"function\"]==\"poly\":\n",
        "  #   y = 1\n",
        "  #   for i in range(AP[\"nDimensions\"]):\n",
        "  #     y *= x[i]**AP[\"degree\"] \n",
        "  #   return y\n",
        "\n",
        "#   if AP[\"function\"]==\"exp\":\n",
        "#     y = 1\n",
        "#     for i in range(AP[\"nDimensions\"]):\n",
        "#       y *= AP[\"degree\"]**x[i] \n",
        "#     return y\n",
        "\n",
        "#   y = 1\n",
        "#   for i in range(AP[\"nDimensions\"]):\n",
        "#     y *= x[i]\n",
        "#   return y"
      ],
      "execution_count": null,
      "outputs": []
    },
    {
      "cell_type": "markdown",
      "metadata": {
        "id": "NizQsW4bCff6"
      },
      "source": [
        "## Regression"
      ]
    },
    {
      "cell_type": "code",
      "metadata": {
        "id": "MyYkd9sKgdXW",
        "colab": {
          "base_uri": "https://localhost:8080/",
          "height": 358
        },
        "outputId": "0885cf78-0d1b-4227-ce9b-407f52c53e6a"
      },
      "source": [
        "sw = StopWatch('Regression')\n",
        "all([\"function\",\"Covid-19\"], [\"maxX\", 100], ) # maxX = 100 representing the number of days\n",
        "sw.end()"
      ],
      "execution_count": null,
      "outputs": [
        {
          "output_type": "stream",
          "name": "stdout",
          "text": [
            "Regression stop watch start time: 2021-12-04 04:22:03.680319\n"
          ]
        },
        {
          "output_type": "error",
          "ename": "KeyboardInterrupt",
          "evalue": "ignored",
          "traceback": [
            "\u001b[0;31m---------------------------------------------------------------------------\u001b[0m",
            "\u001b[0;31mKeyboardInterrupt\u001b[0m                         Traceback (most recent call last)",
            "\u001b[0;32m<ipython-input-420-3680a3528bcd>\u001b[0m in \u001b[0;36m<module>\u001b[0;34m()\u001b[0m\n\u001b[1;32m      1\u001b[0m \u001b[0msw\u001b[0m \u001b[0;34m=\u001b[0m \u001b[0mStopWatch\u001b[0m\u001b[0;34m(\u001b[0m\u001b[0;34m'Regression'\u001b[0m\u001b[0;34m)\u001b[0m\u001b[0;34m\u001b[0m\u001b[0;34m\u001b[0m\u001b[0m\n\u001b[0;32m----> 2\u001b[0;31m \u001b[0mall\u001b[0m\u001b[0;34m(\u001b[0m\u001b[0;34m[\u001b[0m\u001b[0;34m\"function\"\u001b[0m\u001b[0;34m,\u001b[0m\u001b[0;34m\"Covid-19\"\u001b[0m\u001b[0;34m]\u001b[0m\u001b[0;34m,\u001b[0m \u001b[0;34m[\u001b[0m\u001b[0;34m\"maxX\"\u001b[0m\u001b[0;34m,\u001b[0m \u001b[0;36m100\u001b[0m\u001b[0;34m]\u001b[0m\u001b[0;34m,\u001b[0m \u001b[0;34m)\u001b[0m \u001b[0;31m# maxX = 100 representing the number of days\u001b[0m\u001b[0;34m\u001b[0m\u001b[0;34m\u001b[0m\u001b[0m\n\u001b[0m\u001b[1;32m      3\u001b[0m \u001b[0msw\u001b[0m\u001b[0;34m.\u001b[0m\u001b[0mend\u001b[0m\u001b[0;34m(\u001b[0m\u001b[0;34m)\u001b[0m\u001b[0;34m\u001b[0m\u001b[0;34m\u001b[0m\u001b[0m\n",
            "\u001b[0;32m<ipython-input-412-dbedd3276e73>\u001b[0m in \u001b[0;36mall\u001b[0;34m(*APV)\u001b[0m\n\u001b[1;32m      9\u001b[0m \u001b[0;31m###################################################################\u001b[0m\u001b[0;34m\u001b[0m\u001b[0;34m\u001b[0m\u001b[0;34m\u001b[0m\u001b[0m\n\u001b[1;32m     10\u001b[0m \u001b[0;34m\u001b[0m\u001b[0m\n\u001b[0;32m---> 11\u001b[0;31m   \u001b[0mtest_loss\u001b[0m \u001b[0;34m=\u001b[0m \u001b[0mall_no_graph\u001b[0m\u001b[0;34m(\u001b[0m\u001b[0;34m*\u001b[0m\u001b[0mAPV\u001b[0m\u001b[0;34m)\u001b[0m\u001b[0;34m\u001b[0m\u001b[0;34m\u001b[0m\u001b[0m\n\u001b[0m\u001b[1;32m     12\u001b[0m   \u001b[0mgraph\u001b[0m\u001b[0;34m(\u001b[0m\u001b[0;34m)\u001b[0m\u001b[0;34m\u001b[0m\u001b[0;34m\u001b[0m\u001b[0m\n\u001b[1;32m     13\u001b[0m   \u001b[0;32mreturn\u001b[0m \u001b[0mtest_loss\u001b[0m\u001b[0;34m\u001b[0m\u001b[0;34m\u001b[0m\u001b[0m\n",
            "\u001b[0;32m<ipython-input-413-df83f265ddfc>\u001b[0m in \u001b[0;36mall_no_graph\u001b[0;34m(*APV)\u001b[0m\n\u001b[1;32m     10\u001b[0m \u001b[0;34m\u001b[0m\u001b[0m\n\u001b[1;32m     11\u001b[0m   \u001b[0msetAP\u001b[0m\u001b[0;34m(\u001b[0m\u001b[0;34m*\u001b[0m\u001b[0mAPV\u001b[0m\u001b[0;34m)\u001b[0m\u001b[0;34m\u001b[0m\u001b[0;34m\u001b[0m\u001b[0m\n\u001b[0;32m---> 12\u001b[0;31m   \u001b[0mbuildDataAll\u001b[0m\u001b[0;34m(\u001b[0m\u001b[0;34m)\u001b[0m\u001b[0;34m\u001b[0m\u001b[0;34m\u001b[0m\u001b[0m\n\u001b[0m\u001b[1;32m     13\u001b[0m   \u001b[0mAddNoise\u001b[0m\u001b[0;34m(\u001b[0m\u001b[0;34m)\u001b[0m\u001b[0;34m\u001b[0m\u001b[0;34m\u001b[0m\u001b[0m\n\u001b[1;32m     14\u001b[0m   \u001b[0mtest_loss\u001b[0m \u001b[0;34m=\u001b[0m \u001b[0mlearn\u001b[0m\u001b[0;34m(\u001b[0m\u001b[0;34m)\u001b[0m\u001b[0;34m\u001b[0m\u001b[0;34m\u001b[0m\u001b[0m\n",
            "\u001b[0;32m<ipython-input-408-b5bd7dd33e46>\u001b[0m in \u001b[0;36mbuildDataAll\u001b[0;34m()\u001b[0m\n\u001b[1;32m      9\u001b[0m \u001b[0;34m\u001b[0m\u001b[0m\n\u001b[1;32m     10\u001b[0m   \u001b[0;32mglobal\u001b[0m \u001b[0mtrainX\u001b[0m\u001b[0;34m,\u001b[0m \u001b[0mtrainY\u001b[0m\u001b[0;34m,\u001b[0m \u001b[0mtestX\u001b[0m\u001b[0;34m,\u001b[0m \u001b[0mtestY\u001b[0m\u001b[0;34m\u001b[0m\u001b[0;34m\u001b[0m\u001b[0m\n\u001b[0;32m---> 11\u001b[0;31m   \u001b[0mtrainX\u001b[0m\u001b[0;34m,\u001b[0m\u001b[0mtrainY\u001b[0m \u001b[0;34m=\u001b[0m \u001b[0mbuildDataSet\u001b[0m\u001b[0;34m(\u001b[0m\u001b[0mAP\u001b[0m\u001b[0;34m[\u001b[0m\u001b[0;34m\"nItemsTrain\"\u001b[0m\u001b[0;34m]\u001b[0m\u001b[0;34m)\u001b[0m\u001b[0;34m\u001b[0m\u001b[0;34m\u001b[0m\u001b[0m\n\u001b[0m\u001b[1;32m     12\u001b[0m   \u001b[0mtestX\u001b[0m\u001b[0;34m,\u001b[0m \u001b[0mtestY\u001b[0m  \u001b[0;34m=\u001b[0m \u001b[0mbuildDataSet\u001b[0m\u001b[0;34m(\u001b[0m\u001b[0mAP\u001b[0m\u001b[0;34m[\u001b[0m\u001b[0;34m\"nItemsTest\"\u001b[0m\u001b[0;34m]\u001b[0m\u001b[0;34m)\u001b[0m\u001b[0;34m\u001b[0m\u001b[0;34m\u001b[0m\u001b[0m\n",
            "\u001b[0;32m<ipython-input-407-29f6a1851492>\u001b[0m in \u001b[0;36mbuildDataSet\u001b[0;34m(nItems)\u001b[0m\n\u001b[1;32m     18\u001b[0m     \u001b[0;32mfor\u001b[0m \u001b[0mj\u001b[0m \u001b[0;32min\u001b[0m \u001b[0mrange\u001b[0m\u001b[0;34m(\u001b[0m\u001b[0mAP\u001b[0m\u001b[0;34m[\u001b[0m\u001b[0;34m\"nDimensions\"\u001b[0m\u001b[0;34m]\u001b[0m\u001b[0;34m)\u001b[0m\u001b[0;34m:\u001b[0m\u001b[0;34m\u001b[0m\u001b[0;34m\u001b[0m\u001b[0m\n\u001b[1;32m     19\u001b[0m       \u001b[0mX\u001b[0m\u001b[0;34m[\u001b[0m\u001b[0mi\u001b[0m\u001b[0;34m]\u001b[0m\u001b[0;34m[\u001b[0m\u001b[0mj\u001b[0m\u001b[0;34m]\u001b[0m \u001b[0;34m=\u001b[0m \u001b[0mrandom\u001b[0m\u001b[0;34m(\u001b[0m\u001b[0;34m)\u001b[0m\u001b[0;34m*\u001b[0m\u001b[0mAP\u001b[0m\u001b[0;34m[\u001b[0m\u001b[0;34m\"maxX\"\u001b[0m\u001b[0;34m]\u001b[0m\u001b[0;34m\u001b[0m\u001b[0;34m\u001b[0m\u001b[0m\n\u001b[0;32m---> 20\u001b[0;31m     \u001b[0mY\u001b[0m\u001b[0;34m[\u001b[0m\u001b[0mi\u001b[0m\u001b[0;34m]\u001b[0m \u001b[0;34m=\u001b[0m \u001b[0mf\u001b[0m\u001b[0;34m(\u001b[0m\u001b[0mX\u001b[0m\u001b[0;34m[\u001b[0m\u001b[0mi\u001b[0m\u001b[0;34m]\u001b[0m\u001b[0;34m)\u001b[0m\u001b[0;34m\u001b[0m\u001b[0;34m\u001b[0m\u001b[0m\n\u001b[0m\u001b[1;32m     21\u001b[0m   \u001b[0;32mreturn\u001b[0m \u001b[0mX\u001b[0m\u001b[0;34m,\u001b[0m\u001b[0mY\u001b[0m\u001b[0;34m\u001b[0m\u001b[0;34m\u001b[0m\u001b[0m\n",
            "\u001b[0;32m<ipython-input-402-364e936e3292>\u001b[0m in \u001b[0;36mf\u001b[0;34m(x)\u001b[0m\n\u001b[1;32m      4\u001b[0m   \"\"\"\n\u001b[1;32m      5\u001b[0m   \u001b[0;32mif\u001b[0m \u001b[0;32mnot\u001b[0m \u001b[0mAP\u001b[0m\u001b[0;34m[\u001b[0m\u001b[0;34m\"categorize\"\u001b[0m\u001b[0;34m]\u001b[0m\u001b[0;34m:\u001b[0m\u001b[0;34m\u001b[0m\u001b[0;34m\u001b[0m\u001b[0m\n\u001b[0;32m----> 6\u001b[0;31m     \u001b[0;32mreturn\u001b[0m \u001b[0mff\u001b[0m\u001b[0;34m(\u001b[0m\u001b[0mx\u001b[0m\u001b[0;34m)\u001b[0m\u001b[0;34m\u001b[0m\u001b[0;34m\u001b[0m\u001b[0m\n\u001b[0m\u001b[1;32m      7\u001b[0m   \u001b[0;32melse\u001b[0m\u001b[0;34m:\u001b[0m\u001b[0;34m\u001b[0m\u001b[0;34m\u001b[0m\u001b[0m\n\u001b[1;32m      8\u001b[0m     \u001b[0;32mreturn\u001b[0m \u001b[0mcategoriesY\u001b[0m\u001b[0;34m(\u001b[0m\u001b[0mff\u001b[0m\u001b[0;34m(\u001b[0m\u001b[0mx\u001b[0m\u001b[0;34m)\u001b[0m\u001b[0;34m)\u001b[0m\u001b[0;34m\u001b[0m\u001b[0;34m\u001b[0m\u001b[0m\n",
            "\u001b[0;32m<ipython-input-400-3d22ddd38764>\u001b[0m in \u001b[0;36mff\u001b[0;34m(x)\u001b[0m\n\u001b[1;32m     24\u001b[0m \u001b[0;34m\u001b[0m\u001b[0m\n\u001b[1;32m     25\u001b[0m   \u001b[0;32mif\u001b[0m \u001b[0mcustom_func\u001b[0m \u001b[0;32mis\u001b[0m \u001b[0;32mnot\u001b[0m \u001b[0;32mNone\u001b[0m\u001b[0;34m:\u001b[0m\u001b[0;34m\u001b[0m\u001b[0;34m\u001b[0m\u001b[0m\n\u001b[0;32m---> 26\u001b[0;31m     \u001b[0;32mreturn\u001b[0m \u001b[0mcustom_func\u001b[0m\u001b[0;34m(\u001b[0m\u001b[0mx\u001b[0m\u001b[0;34m)\u001b[0m\u001b[0;34m\u001b[0m\u001b[0;34m\u001b[0m\u001b[0m\n\u001b[0m\u001b[1;32m     27\u001b[0m \u001b[0;34m\u001b[0m\u001b[0m\n\u001b[1;32m     28\u001b[0m   \u001b[0;32mraise\u001b[0m \u001b[0mException\u001b[0m\u001b[0;34m(\u001b[0m\u001b[0;34mf'ff doesn\\'t know {AP[\"function\"]}'\u001b[0m\u001b[0;34m)\u001b[0m\u001b[0;34m\u001b[0m\u001b[0;34m\u001b[0m\u001b[0m\n",
            "\u001b[0;32m<ipython-input-419-3b919f5266fd>\u001b[0m in \u001b[0;36mcustom_func\u001b[0;34m(x)\u001b[0m\n\u001b[1;32m     47\u001b[0m             \u001b[0;32mpass\u001b[0m\u001b[0;34m\u001b[0m\u001b[0;34m\u001b[0m\u001b[0m\n\u001b[1;32m     48\u001b[0m           \u001b[0;32melse\u001b[0m\u001b[0;34m:\u001b[0m\u001b[0;34m\u001b[0m\u001b[0;34m\u001b[0m\u001b[0m\n\u001b[0;32m---> 49\u001b[0;31m             \u001b[0my\u001b[0m \u001b[0;34m*=\u001b[0m \u001b[0;34m(\u001b[0m\u001b[0;34m(\u001b[0m\u001b[0;34m(\u001b[0m\u001b[0mx\u001b[0m\u001b[0;34m[\u001b[0m\u001b[0mi\u001b[0m\u001b[0;34m]\u001b[0m \u001b[0;34m-\u001b[0m \u001b[0;36m1\u001b[0m\u001b[0;34m)\u001b[0m \u001b[0;34m**\u001b[0m \u001b[0;36m2\u001b[0m\u001b[0;34m)\u001b[0m\u001b[0;34m/\u001b[0m\u001b[0;34m(\u001b[0m\u001b[0mx\u001b[0m\u001b[0;34m**\u001b[0m\u001b[0;36m2\u001b[0m \u001b[0;34m-\u001b[0m \u001b[0;36m1\u001b[0m\u001b[0;34m)\u001b[0m\u001b[0;34m)\u001b[0m \u001b[0;34m*\u001b[0m \u001b[0mrandom\u001b[0m\u001b[0;34m.\u001b[0m\u001b[0mrandint\u001b[0m\u001b[0;34m(\u001b[0m\u001b[0;36m0\u001b[0m\u001b[0;34m,\u001b[0m \u001b[0mint\u001b[0m\u001b[0;34m(\u001b[0m\u001b[0;34m(\u001b[0m\u001b[0mAP\u001b[0m\u001b[0;34m[\u001b[0m\u001b[0;34m\"maxX\"\u001b[0m\u001b[0;34m]\u001b[0m \u001b[0;34m-\u001b[0m \u001b[0mAP\u001b[0m\u001b[0;34m[\u001b[0m\u001b[0;34m\"maxX\"\u001b[0m\u001b[0;34m]\u001b[0m\u001b[0;34m/\u001b[0m\u001b[0;36m2\u001b[0m\u001b[0;34m)\u001b[0m\u001b[0;34m)\u001b[0m\u001b[0;34m)\u001b[0m\u001b[0;34m\u001b[0m\u001b[0;34m\u001b[0m\u001b[0m\n\u001b[0m\u001b[1;32m     50\u001b[0m \u001b[0;34m\u001b[0m\u001b[0m\n\u001b[1;32m     51\u001b[0m       \u001b[0;32mfor\u001b[0m \u001b[0mm\u001b[0m \u001b[0;32min\u001b[0m \u001b[0mrange\u001b[0m\u001b[0;34m(\u001b[0m\u001b[0mint\u001b[0m\u001b[0;34m(\u001b[0m\u001b[0;34m(\u001b[0m\u001b[0mAP\u001b[0m\u001b[0;34m[\u001b[0m\u001b[0;34m\"maxX\"\u001b[0m\u001b[0;34m]\u001b[0m \u001b[0;34m-\u001b[0m \u001b[0mAP\u001b[0m\u001b[0;34m[\u001b[0m\u001b[0;34m\"maxX\"\u001b[0m\u001b[0;34m]\u001b[0m\u001b[0;34m/\u001b[0m\u001b[0;36m2.5\u001b[0m\u001b[0;34m)\u001b[0m\u001b[0;34m)\u001b[0m\u001b[0;34m,\u001b[0m \u001b[0mAP\u001b[0m\u001b[0;34m[\u001b[0m\u001b[0;34m\"maxX\"\u001b[0m\u001b[0;34m]\u001b[0m\u001b[0;34m,\u001b[0m \u001b[0;36m5\u001b[0m\u001b[0;34m)\u001b[0m\u001b[0;34m:\u001b[0m\u001b[0;34m\u001b[0m\u001b[0;34m\u001b[0m\u001b[0m\n",
            "\u001b[0;32m/usr/lib/python3.7/random.py\u001b[0m in \u001b[0;36mrandint\u001b[0;34m(self, a, b)\u001b[0m\n\u001b[1;32m    220\u001b[0m         \"\"\"\n\u001b[1;32m    221\u001b[0m \u001b[0;34m\u001b[0m\u001b[0m\n\u001b[0;32m--> 222\u001b[0;31m         \u001b[0;32mreturn\u001b[0m \u001b[0mself\u001b[0m\u001b[0;34m.\u001b[0m\u001b[0mrandrange\u001b[0m\u001b[0;34m(\u001b[0m\u001b[0ma\u001b[0m\u001b[0;34m,\u001b[0m \u001b[0mb\u001b[0m\u001b[0;34m+\u001b[0m\u001b[0;36m1\u001b[0m\u001b[0;34m)\u001b[0m\u001b[0;34m\u001b[0m\u001b[0;34m\u001b[0m\u001b[0m\n\u001b[0m\u001b[1;32m    223\u001b[0m \u001b[0;34m\u001b[0m\u001b[0m\n\u001b[1;32m    224\u001b[0m     def _randbelow(self, n, int=int, maxsize=1<<BPF, type=type,\n",
            "\u001b[0;32m/usr/lib/python3.7/random.py\u001b[0m in \u001b[0;36mrandrange\u001b[0;34m(self, start, stop, step, _int)\u001b[0m\n\u001b[1;32m    192\u001b[0m         \u001b[0;31m# stop argument supplied.\u001b[0m\u001b[0;34m\u001b[0m\u001b[0;34m\u001b[0m\u001b[0;34m\u001b[0m\u001b[0m\n\u001b[1;32m    193\u001b[0m         \u001b[0mistop\u001b[0m \u001b[0;34m=\u001b[0m \u001b[0m_int\u001b[0m\u001b[0;34m(\u001b[0m\u001b[0mstop\u001b[0m\u001b[0;34m)\u001b[0m\u001b[0;34m\u001b[0m\u001b[0;34m\u001b[0m\u001b[0m\n\u001b[0;32m--> 194\u001b[0;31m         \u001b[0;32mif\u001b[0m \u001b[0mistop\u001b[0m \u001b[0;34m!=\u001b[0m \u001b[0mstop\u001b[0m\u001b[0;34m:\u001b[0m\u001b[0;34m\u001b[0m\u001b[0;34m\u001b[0m\u001b[0m\n\u001b[0m\u001b[1;32m    195\u001b[0m             \u001b[0;32mraise\u001b[0m \u001b[0mValueError\u001b[0m\u001b[0;34m(\u001b[0m\u001b[0;34m\"non-integer stop for randrange()\"\u001b[0m\u001b[0;34m)\u001b[0m\u001b[0;34m\u001b[0m\u001b[0;34m\u001b[0m\u001b[0m\n\u001b[1;32m    196\u001b[0m         \u001b[0mwidth\u001b[0m \u001b[0;34m=\u001b[0m \u001b[0mistop\u001b[0m \u001b[0;34m-\u001b[0m \u001b[0mistart\u001b[0m\u001b[0;34m\u001b[0m\u001b[0;34m\u001b[0m\u001b[0m\n",
            "\u001b[0;31mKeyboardInterrupt\u001b[0m: "
          ]
        }
      ]
    },
    {
      "cell_type": "markdown",
      "metadata": {
        "id": "zj9QEWNdt_9F"
      },
      "source": [
        "## Classification"
      ]
    },
    {
      "cell_type": "code",
      "metadata": {
        "id": "nHbGr7NOa0-C"
      },
      "source": [
        "sw = StopWatch('Classification')\n",
        "setAP([\"function\",\"Covid-19\"], [\"maxX\", 100])\n",
        "all([\"categorize\",[20, 60]])\n",
        "sw.end()"
      ],
      "execution_count": null,
      "outputs": []
    },
    {
      "cell_type": "markdown",
      "metadata": {
        "id": "OGAIBM39Mni2"
      },
      "source": [
        "## Plotting AP vs test_loss"
      ]
    },
    {
      "cell_type": "code",
      "metadata": {
        "id": "uHnMg_pkjxaT"
      },
      "source": [
        "sw = StopWatch('Plotting AP vs loss')\n",
        "plotAP(True,\"maxX\",[10, 50 ,100], [['function', \"covid-19\"], ]) "
      ],
      "execution_count": null,
      "outputs": []
    },
    {
      "cell_type": "code",
      "metadata": {
        "id": "Ryt7e4AyQFBG",
        "colab": {
          "base_uri": "https://localhost:8080/",
          "height": 1000
        },
        "outputId": "88cf3d16-f9bc-4273-caf7-e50e14bb0132"
      },
      "source": [
        "sw = StopWatch('Plotting AP vs loss')\n",
        "\n",
        "plotAP(True,\"maxX\", [10, 50 ,100], [['nHidden', 10], ]) # Comparing the first 10, 50 and 70 days of the number of positive cases \n",
        "sw.end()"
      ],
      "execution_count": null,
      "outputs": [
        {
          "output_type": "stream",
          "name": "stdout",
          "text": [
            "Plotting AP vs loss stop watch start time: 2021-12-04 04:23:28.620743\n",
            "Build for maxX = 10\n",
            "Epoch 1/5\n",
            "3000/3000 [==============================] - 5s 2ms/step - loss: 0.8727 - mae: 0.5770\n",
            "Epoch 2/5\n",
            "3000/3000 [==============================] - 5s 2ms/step - loss: 0.8643 - mae: 0.5698\n",
            "Epoch 3/5\n",
            "3000/3000 [==============================] - 5s 2ms/step - loss: 0.8643 - mae: 0.5690\n",
            "Epoch 4/5\n",
            "3000/3000 [==============================] - 5s 2ms/step - loss: 0.8643 - mae: 0.5693\n",
            "Epoch 5/5\n",
            "3000/3000 [==============================] - 5s 2ms/step - loss: 0.8643 - mae: 0.5691\n",
            "313/313 [==============================] - 1s 1ms/step - loss: 0.8514 - mae: 0.5600\n"
          ]
        },
        {
          "output_type": "stream",
          "name": "stderr",
          "text": [
            "/usr/local/lib/python3.7/dist-packages/ipykernel_launcher.py:46: RuntimeWarning: invalid value encountered in true_divide\n",
            "/usr/local/lib/python3.7/dist-packages/ipykernel_launcher.py:49: RuntimeWarning: invalid value encountered in true_divide\n",
            "/usr/local/lib/python3.7/dist-packages/ipykernel_launcher.py:52: RuntimeWarning: invalid value encountered in true_divide\n",
            "/usr/local/lib/python3.7/dist-packages/ipykernel_launcher.py:55: RuntimeWarning: invalid value encountered in true_divide\n"
          ]
        },
        {
          "output_type": "display_data",
          "data": {
            "image/png": "[encoded data removed]",
            "text/plain": [
              "<Figure size 432x432 with 1 Axes>"
            ]
          },
          "metadata": {
            "needs_background": "light"
          }
        },
        {
          "output_type": "stream",
          "name": "stdout",
          "text": [
            "Build for maxX = 50\n",
            "Epoch 1/5\n",
            "3000/3000 [==============================] - 5s 2ms/step - loss: 0.9904 - mae: 0.2900\n",
            "Epoch 2/5\n",
            "3000/3000 [==============================] - 5s 2ms/step - loss: 0.9881 - mae: 0.2874\n",
            "Epoch 3/5\n",
            "3000/3000 [==============================] - 5s 2ms/step - loss: 0.9881 - mae: 0.2872\n",
            "Epoch 4/5\n",
            "3000/3000 [==============================] - 5s 2ms/step - loss: 0.9881 - mae: 0.2874\n",
            "Epoch 5/5\n",
            "3000/3000 [==============================] - 5s 2ms/step - loss: 0.9881 - mae: 0.2878\n",
            "313/313 [==============================] - 1s 1ms/step - loss: 1.0721 - mae: 0.2935\n"
          ]
        },
        {
          "output_type": "stream",
          "name": "stderr",
          "text": [
            "/usr/local/lib/python3.7/dist-packages/ipykernel_launcher.py:46: RuntimeWarning: invalid value encountered in true_divide\n",
            "/usr/local/lib/python3.7/dist-packages/ipykernel_launcher.py:49: RuntimeWarning: invalid value encountered in true_divide\n",
            "/usr/local/lib/python3.7/dist-packages/ipykernel_launcher.py:52: RuntimeWarning: invalid value encountered in true_divide\n",
            "/usr/local/lib/python3.7/dist-packages/ipykernel_launcher.py:55: RuntimeWarning: invalid value encountered in true_divide\n"
          ]
        },
        {
          "output_type": "display_data",
          "data": {
            "image/png": "[encoded data removed]",
            "text/plain": [
              "<Figure size 432x432 with 1 Axes>"
            ]
          },
          "metadata": {
            "needs_background": "light"
          }
        },
        {
          "output_type": "stream",
          "name": "stdout",
          "text": [
            "Build for maxX = 100\n",
            "Epoch 1/5\n",
            "3000/3000 [==============================] - 5s 2ms/step - loss: 1.0017 - mae: 0.0693\n",
            "Epoch 2/5\n",
            "3000/3000 [==============================] - 5s 2ms/step - loss: 0.9997 - mae: 0.0647\n",
            "Epoch 3/5\n",
            "3000/3000 [==============================] - 5s 2ms/step - loss: 0.9997 - mae: 0.0645\n",
            "Epoch 4/5\n",
            "3000/3000 [==============================] - 5s 2ms/step - loss: 0.9997 - mae: 0.0647\n",
            "Epoch 5/5\n",
            "3000/3000 [==============================] - 5s 2ms/step - loss: 0.9998 - mae: 0.0643\n",
            "313/313 [==============================] - 1s 1ms/step - loss: 0.5261 - mae: 0.0606\n"
          ]
        },
        {
          "output_type": "stream",
          "name": "stderr",
          "text": [
            "/usr/local/lib/python3.7/dist-packages/ipykernel_launcher.py:46: RuntimeWarning: invalid value encountered in true_divide\n",
            "/usr/local/lib/python3.7/dist-packages/ipykernel_launcher.py:49: RuntimeWarning: invalid value encountered in true_divide\n",
            "/usr/local/lib/python3.7/dist-packages/ipykernel_launcher.py:52: RuntimeWarning: invalid value encountered in true_divide\n",
            "/usr/local/lib/python3.7/dist-packages/ipykernel_launcher.py:55: RuntimeWarning: invalid value encountered in true_divide\n"
          ]
        },
        {
          "output_type": "display_data",
          "data": {
            "image/png": "[encoded data removed]",
            "text/plain": [
              "<Figure size 432x432 with 1 Axes>"
            ]
          },
          "metadata": {
            "needs_background": "light"
          }
        },
        {
          "output_type": "stream",
          "name": "stdout",
          "text": [
            "[10, 50, 100] [0.85144687 1.07213342 0.52610695]\n"
          ]
        },
        {
          "output_type": "display_data",
          "data": {
            "image/png": "[encoded data removed]",
            "text/plain": [
              "<Figure size 432x432 with 1 Axes>"
            ]
          },
          "metadata": {
            "needs_background": "light"
          }
        },
        {
          "output_type": "stream",
          "name": "stdout",
          "text": [
            "Plotting AP vs loss stop watch runtime was 0:06:38.072641\n"
          ]
        }
      ]
    }
  ]
}